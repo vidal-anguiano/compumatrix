{
 "cells": [
  {
   "cell_type": "code",
   "execution_count": 1,
   "metadata": {},
   "outputs": [],
   "source": [
    "%load_ext autoreload\n",
    "%autoreload 2"
   ]
  },
  {
   "cell_type": "code",
   "execution_count": 42,
   "metadata": {},
   "outputs": [],
   "source": [
    "import os\n",
    "import pandas as pd\n",
    "import geopandas as gpd\n",
    "import dask.dataframe as dd\n",
    "from spatial_access.Models import AccessCount, AccessModel, AccessSum, AccessTime"
   ]
  },
  {
   "cell_type": "code",
   "execution_count": 43,
   "metadata": {},
   "outputs": [],
   "source": [
    "pd.options.display.max_rows = 100"
   ]
  },
  {
   "cell_type": "code",
   "execution_count": 66,
   "metadata": {},
   "outputs": [],
   "source": [
    "import utils\n",
    "import spatial_access_prep"
   ]
  },
  {
   "cell_type": "code",
   "execution_count": 67,
   "metadata": {},
   "outputs": [],
   "source": [
    "STATES  = ['AL',\n",
    "          #'AK',\n",
    "           'AZ','AR','CA','CO','CT','DE','DC','FL','GA',\n",
    "          #'HI',\n",
    "           'ID','IL','IN','IA','KS','KY','LA','ME','MD','MA','MI','MN',\n",
    "           'MS','MO','MT','NE','NV','NH','NJ','NM','NY','NC','ND','OH',\n",
    "           'OK','OR','PA','RI','SC','SD','TN','TX','UT','VT','VA','WA',\n",
    "           'WV','WI','WY']"
   ]
  },
  {
   "cell_type": "code",
   "execution_count": 138,
   "metadata": {},
   "outputs": [
    {
     "data": {
      "text/plain": [
       "array(['STU'], dtype=object)"
      ]
     },
     "execution_count": 138,
     "metadata": {},
     "output_type": "execute_result"
    }
   ],
   "source": [
    "# resources_path = './data/us-wide-moudsCleaned.gpkg'\n",
    "# us = gpd.read_file(resources_path)\n",
    "# us['category'].unique()\n",
    "\n",
    "\n",
    "resources_path = './data/SUT_locations.gpkg'\n",
    "us = gpd.read_file(resources_path)\n",
    "us['category'] = 'STU'\n",
    "us.to_file(resources_path, driver='GPKG')\n",
    "us['category'].unique()"
   ]
  },
  {
   "cell_type": "code",
   "execution_count": 89,
   "metadata": {},
   "outputs": [],
   "source": [
    "national_shp   = './shapefiles/tract/US/tl_2010_us_ttract10.shp'\n",
    "outpath = './'\n",
    "resource = 'STU'"
   ]
  },
  {
   "cell_type": "code",
   "execution_count": 90,
   "metadata": {},
   "outputs": [],
   "source": [
    "source_col_names = {'idx':'GEOID',\n",
    "                    'population': 'skip',\n",
    "                    'lon': 'oX',\n",
    "                    'lat': 'oY'}\n",
    "dest_col_names   = {'idx':'ID',\n",
    "                    'category': 'category',\n",
    "                    'capacity': 'skip',\n",
    "                    'lon': 'dX',\n",
    "                    'lat': 'dY'}"
   ]
  },
  {
   "cell_type": "code",
   "execution_count": 92,
   "metadata": {
    "scrolled": true
   },
   "outputs": [
    {
     "name": "stdout",
     "output_type": "stream",
     "text": [
      "Skipping tl_2010_us_state10.zip, it's already downloaded.\n",
      "Skipping tl_2010_us_state10.zip, it's already extracted.\n",
      "Skipping tl_2010_13_tract10.zip, it's already downloaded.\n",
      "Skipping tl_2010_13_tract10.zip, it's already extracted.\n",
      "Skipping tl_2010_28_tract10.zip, it's already downloaded.\n",
      "Skipping tl_2010_28_tract10.zip, it's already extracted.\n",
      "Skipping tl_2010_12_tract10.zip, it's already downloaded.\n",
      "Skipping tl_2010_12_tract10.zip, it's already extracted.\n",
      "Skipping tl_2010_01_tract10.zip, it's already downloaded.\n",
      "Skipping tl_2010_01_tract10.zip, it's already extracted.\n",
      "Skipping tl_2010_47_tract10.zip, it's already downloaded.\n",
      "Skipping tl_2010_47_tract10.zip, it's already extracted.\n",
      "Skipping tl_2010_22_tract10.zip, it's already downloaded.\n",
      "Skipping tl_2010_22_tract10.zip, it's already extracted.\n",
      "AL destinations saved to ./inputs/tract/AL/AL-STU-moud-dests.csv\n"
     ]
    },
    {
     "name": "stderr",
     "output_type": "stream",
     "text": [
      "WARNING:spatial_access.p2p:You should use tmx instead of csv for significantly better performance\n"
     ]
    },
    {
     "name": "stdout",
     "output_type": "stream",
     "text": [
      "AL transformed matrix saved to ./inputs/tract/AL/AL-transformed-matrix.csv\n"
     ]
    },
    {
     "name": "stderr",
     "output_type": "stream",
     "text": [
      "INFO:spatial_access.BaseModel:Using weights: {'STU': [1, 1, 1]}\n"
     ]
    },
    {
     "name": "stdout",
     "output_type": "stream",
     "text": [
      "AL access metrics for STU complete!\n",
      "Skipping tl_2010_us_state10.zip, it's already downloaded.\n",
      "Skipping tl_2010_us_state10.zip, it's already extracted.\n",
      "Skipping tl_2010_35_tract10.zip, it's already downloaded.\n",
      "Skipping tl_2010_35_tract10.zip, it's already extracted.\n",
      "Skipping tl_2010_32_tract10.zip, it's already downloaded.\n",
      "Skipping tl_2010_32_tract10.zip, it's already extracted.\n",
      "Skipping tl_2010_49_tract10.zip, it's already downloaded.\n",
      "Skipping tl_2010_49_tract10.zip, it's already extracted.\n",
      "Skipping tl_2010_08_tract10.zip, it's already downloaded.\n",
      "Skipping tl_2010_08_tract10.zip, it's already extracted.\n",
      "Skipping tl_2010_06_tract10.zip, it's already downloaded.\n",
      "Skipping tl_2010_06_tract10.zip, it's already extracted.\n",
      "Skipping tl_2010_04_tract10.zip, it's already downloaded.\n",
      "Skipping tl_2010_04_tract10.zip, it's already extracted.\n",
      "AZ destinations saved to ./inputs/tract/AZ/AZ-STU-moud-dests.csv\n"
     ]
    },
    {
     "name": "stderr",
     "output_type": "stream",
     "text": [
      "WARNING:spatial_access.p2p:You should use tmx instead of csv for significantly better performance\n"
     ]
    },
    {
     "name": "stdout",
     "output_type": "stream",
     "text": [
      "AZ transformed matrix saved to ./inputs/tract/AZ/AZ-transformed-matrix.csv\n"
     ]
    },
    {
     "name": "stderr",
     "output_type": "stream",
     "text": [
      "INFO:spatial_access.BaseModel:Using weights: {'STU': [1, 1, 1]}\n"
     ]
    },
    {
     "name": "stdout",
     "output_type": "stream",
     "text": [
      "AZ access metrics for STU complete!\n",
      "Skipping tl_2010_us_state10.zip, it's already downloaded.\n",
      "Skipping tl_2010_us_state10.zip, it's already extracted.\n",
      "Skipping tl_2010_05_tract10.zip, it's already downloaded.\n",
      "Skipping tl_2010_05_tract10.zip, it's already extracted.\n",
      "Skipping tl_2010_20_tract10.zip, it's already downloaded.\n",
      "Skipping tl_2010_20_tract10.zip, it's already extracted.\n",
      "Skipping tl_2010_28_tract10.zip, it's already downloaded.\n",
      "Skipping tl_2010_28_tract10.zip, it's already extracted.\n",
      "Skipping tl_2010_40_tract10.zip, it's already downloaded.\n",
      "Skipping tl_2010_40_tract10.zip, it's already extracted.\n",
      "Skipping tl_2010_29_tract10.zip, it's already downloaded.\n",
      "Skipping tl_2010_29_tract10.zip, it's already extracted.\n",
      "Skipping tl_2010_47_tract10.zip, it's already downloaded.\n",
      "Skipping tl_2010_47_tract10.zip, it's already extracted.\n",
      "Skipping tl_2010_22_tract10.zip, it's already downloaded.\n",
      "Skipping tl_2010_22_tract10.zip, it's already extracted.\n",
      "Skipping tl_2010_48_tract10.zip, it's already downloaded.\n",
      "Skipping tl_2010_48_tract10.zip, it's already extracted.\n",
      "AR destinations saved to ./inputs/tract/AR/AR-STU-moud-dests.csv\n"
     ]
    },
    {
     "name": "stderr",
     "output_type": "stream",
     "text": [
      "WARNING:spatial_access.p2p:You should use tmx instead of csv for significantly better performance\n",
      "INFO:spatial_access.BaseModel:Using weights: {'STU': [1, 1, 1]}\n"
     ]
    },
    {
     "name": "stdout",
     "output_type": "stream",
     "text": [
      "AR transformed matrix saved to ./inputs/tract/AR/AR-transformed-matrix.csv\n",
      "AR access metrics for STU complete!\n",
      "Skipping tl_2010_us_state10.zip, it's already downloaded.\n",
      "Skipping tl_2010_us_state10.zip, it's already extracted.\n",
      "Skipping tl_2010_41_tract10.zip, it's already downloaded.\n",
      "Skipping tl_2010_41_tract10.zip, it's already extracted.\n",
      "Skipping tl_2010_32_tract10.zip, it's already downloaded.\n",
      "Skipping tl_2010_32_tract10.zip, it's already extracted.\n",
      "Skipping tl_2010_06_tract10.zip, it's already downloaded.\n",
      "Skipping tl_2010_06_tract10.zip, it's already extracted.\n",
      "Skipping tl_2010_04_tract10.zip, it's already downloaded.\n",
      "Skipping tl_2010_04_tract10.zip, it's already extracted.\n",
      "CA destinations saved to ./inputs/tract/CA/CA-STU-moud-dests.csv\n"
     ]
    },
    {
     "name": "stderr",
     "output_type": "stream",
     "text": [
      "WARNING:spatial_access.p2p:You should use tmx instead of csv for significantly better performance\n"
     ]
    },
    {
     "name": "stdout",
     "output_type": "stream",
     "text": [
      "CA transformed matrix saved to ./inputs/tract/CA/CA-transformed-matrix.csv\n"
     ]
    },
    {
     "name": "stderr",
     "output_type": "stream",
     "text": [
      "INFO:spatial_access.BaseModel:Using weights: {'STU': [1, 1, 1]}\n"
     ]
    },
    {
     "name": "stdout",
     "output_type": "stream",
     "text": [
      "CA access metrics for STU complete!\n",
      "Skipping tl_2010_us_state10.zip, it's already downloaded.\n",
      "Skipping tl_2010_us_state10.zip, it's already extracted.\n",
      "Skipping tl_2010_56_tract10.zip, it's already downloaded.\n",
      "Skipping tl_2010_56_tract10.zip, it's already extracted.\n",
      "Skipping tl_2010_35_tract10.zip, it's already downloaded.\n",
      "Skipping tl_2010_35_tract10.zip, it's already extracted.\n",
      "Skipping tl_2010_20_tract10.zip, it's already downloaded.\n",
      "Skipping tl_2010_20_tract10.zip, it's already extracted.\n",
      "Skipping tl_2010_31_tract10.zip, it's already downloaded.\n",
      "Skipping tl_2010_31_tract10.zip, it's already extracted.\n",
      "Skipping tl_2010_49_tract10.zip, it's already downloaded.\n",
      "Skipping tl_2010_49_tract10.zip, it's already extracted.\n",
      "Skipping tl_2010_40_tract10.zip, it's already downloaded.\n",
      "Skipping tl_2010_40_tract10.zip, it's already extracted.\n",
      "Skipping tl_2010_08_tract10.zip, it's already downloaded.\n",
      "Skipping tl_2010_08_tract10.zip, it's already extracted.\n",
      "Skipping tl_2010_04_tract10.zip, it's already downloaded.\n",
      "Skipping tl_2010_04_tract10.zip, it's already extracted.\n",
      "Skipping tl_2010_48_tract10.zip, it's already downloaded.\n",
      "Skipping tl_2010_48_tract10.zip, it's already extracted.\n",
      "CO destinations saved to ./inputs/tract/CO/CO-STU-moud-dests.csv\n"
     ]
    },
    {
     "name": "stderr",
     "output_type": "stream",
     "text": [
      "WARNING:spatial_access.p2p:You should use tmx instead of csv for significantly better performance\n"
     ]
    },
    {
     "name": "stdout",
     "output_type": "stream",
     "text": [
      "CO transformed matrix saved to ./inputs/tract/CO/CO-transformed-matrix.csv\n"
     ]
    },
    {
     "name": "stderr",
     "output_type": "stream",
     "text": [
      "INFO:spatial_access.BaseModel:Using weights: {'STU': [1, 1, 1]}\n"
     ]
    },
    {
     "name": "stdout",
     "output_type": "stream",
     "text": [
      "CO access metrics for STU complete!\n",
      "Skipping tl_2010_us_state10.zip, it's already downloaded.\n",
      "Skipping tl_2010_us_state10.zip, it's already extracted.\n",
      "Skipping tl_2010_44_tract10.zip, it's already downloaded.\n",
      "Skipping tl_2010_44_tract10.zip, it's already extracted.\n",
      "Skipping tl_2010_36_tract10.zip, it's already downloaded.\n",
      "Skipping tl_2010_36_tract10.zip, it's already extracted.\n",
      "Skipping tl_2010_34_tract10.zip, it's already downloaded.\n",
      "Skipping tl_2010_34_tract10.zip, it's already extracted.\n",
      "Skipping tl_2010_09_tract10.zip, it's already downloaded.\n",
      "Skipping tl_2010_09_tract10.zip, it's already extracted.\n",
      "Skipping tl_2010_25_tract10.zip, it's already downloaded.\n",
      "Skipping tl_2010_25_tract10.zip, it's already extracted.\n",
      "CT destinations saved to ./inputs/tract/CT/CT-STU-moud-dests.csv\n"
     ]
    },
    {
     "name": "stderr",
     "output_type": "stream",
     "text": [
      "WARNING:spatial_access.p2p:You should use tmx instead of csv for significantly better performance\n"
     ]
    },
    {
     "name": "stdout",
     "output_type": "stream",
     "text": [
      "CT transformed matrix saved to ./inputs/tract/CT/CT-transformed-matrix.csv\n"
     ]
    },
    {
     "name": "stderr",
     "output_type": "stream",
     "text": [
      "INFO:spatial_access.BaseModel:Using weights: {'STU': [1, 1, 1]}\n"
     ]
    },
    {
     "name": "stdout",
     "output_type": "stream",
     "text": [
      "CT access metrics for STU complete!\n",
      "Skipping tl_2010_us_state10.zip, it's already downloaded.\n",
      "Skipping tl_2010_us_state10.zip, it's already extracted.\n",
      "Skipping tl_2010_42_tract10.zip, it's already downloaded.\n",
      "Skipping tl_2010_42_tract10.zip, it's already extracted.\n",
      "Skipping tl_2010_24_tract10.zip, it's already downloaded.\n",
      "Skipping tl_2010_24_tract10.zip, it's already extracted.\n",
      "Skipping tl_2010_34_tract10.zip, it's already downloaded.\n",
      "Skipping tl_2010_34_tract10.zip, it's already extracted.\n",
      "Skipping tl_2010_10_tract10.zip, it's already downloaded.\n",
      "Skipping tl_2010_10_tract10.zip, it's already extracted.\n",
      "Skipping tl_2010_51_tract10.zip, it's already downloaded.\n",
      "Skipping tl_2010_51_tract10.zip, it's already extracted.\n",
      "DE destinations saved to ./inputs/tract/DE/DE-STU-moud-dests.csv\n"
     ]
    },
    {
     "name": "stderr",
     "output_type": "stream",
     "text": [
      "WARNING:spatial_access.p2p:You should use tmx instead of csv for significantly better performance\n",
      "INFO:spatial_access.BaseModel:Using weights: {'STU': [1, 1, 1]}\n"
     ]
    },
    {
     "name": "stdout",
     "output_type": "stream",
     "text": [
      "DE transformed matrix saved to ./inputs/tract/DE/DE-transformed-matrix.csv\n",
      "DE access metrics for STU complete!\n",
      "Skipping tl_2010_us_state10.zip, it's already downloaded.\n",
      "Skipping tl_2010_us_state10.zip, it's already extracted.\n",
      "Skipping tl_2010_51_tract10.zip, it's already downloaded.\n",
      "Skipping tl_2010_51_tract10.zip, it's already extracted.\n",
      "Skipping tl_2010_24_tract10.zip, it's already downloaded.\n",
      "Skipping tl_2010_24_tract10.zip, it's already extracted.\n",
      "Skipping tl_2010_10_tract10.zip, it's already downloaded.\n",
      "Skipping tl_2010_10_tract10.zip, it's already extracted.\n",
      "Skipping tl_2010_11_tract10.zip, it's already downloaded.\n",
      "Skipping tl_2010_11_tract10.zip, it's already extracted.\n",
      "DC destinations saved to ./inputs/tract/DC/DC-STU-moud-dests.csv\n"
     ]
    },
    {
     "name": "stderr",
     "output_type": "stream",
     "text": [
      "WARNING:spatial_access.p2p:You should use tmx instead of csv for significantly better performance\n",
      "INFO:spatial_access.BaseModel:Using weights: {'STU': [1, 1, 1]}\n"
     ]
    },
    {
     "name": "stdout",
     "output_type": "stream",
     "text": [
      "DC transformed matrix saved to ./inputs/tract/DC/DC-transformed-matrix.csv\n",
      "DC access metrics for STU complete!\n",
      "Skipping tl_2010_us_state10.zip, it's already downloaded.\n",
      "Skipping tl_2010_us_state10.zip, it's already extracted.\n",
      "Skipping tl_2010_13_tract10.zip, it's already downloaded.\n",
      "Skipping tl_2010_13_tract10.zip, it's already extracted.\n",
      "Skipping tl_2010_12_tract10.zip, it's already downloaded.\n",
      "Skipping tl_2010_12_tract10.zip, it's already extracted.\n",
      "Skipping tl_2010_01_tract10.zip, it's already downloaded.\n",
      "Skipping tl_2010_01_tract10.zip, it's already extracted.\n",
      "FL destinations saved to ./inputs/tract/FL/FL-STU-moud-dests.csv\n"
     ]
    },
    {
     "name": "stderr",
     "output_type": "stream",
     "text": [
      "WARNING:spatial_access.p2p:You should use tmx instead of csv for significantly better performance\n"
     ]
    },
    {
     "name": "stdout",
     "output_type": "stream",
     "text": [
      "FL transformed matrix saved to ./inputs/tract/FL/FL-transformed-matrix.csv\n"
     ]
    },
    {
     "name": "stderr",
     "output_type": "stream",
     "text": [
      "INFO:spatial_access.BaseModel:Using weights: {'STU': [1, 1, 1]}\n"
     ]
    },
    {
     "name": "stdout",
     "output_type": "stream",
     "text": [
      "FL access metrics for STU complete!\n",
      "Skipping tl_2010_us_state10.zip, it's already downloaded.\n",
      "Skipping tl_2010_us_state10.zip, it's already extracted.\n",
      "Skipping tl_2010_13_tract10.zip, it's already downloaded.\n",
      "Skipping tl_2010_13_tract10.zip, it's already extracted.\n",
      "Skipping tl_2010_12_tract10.zip, it's already downloaded.\n",
      "Skipping tl_2010_12_tract10.zip, it's already extracted.\n",
      "Skipping tl_2010_01_tract10.zip, it's already downloaded.\n",
      "Skipping tl_2010_01_tract10.zip, it's already extracted.\n",
      "Skipping tl_2010_45_tract10.zip, it's already downloaded.\n",
      "Skipping tl_2010_45_tract10.zip, it's already extracted.\n",
      "Skipping tl_2010_47_tract10.zip, it's already downloaded.\n",
      "Skipping tl_2010_47_tract10.zip, it's already extracted.\n",
      "Skipping tl_2010_37_tract10.zip, it's already downloaded.\n",
      "Skipping tl_2010_37_tract10.zip, it's already extracted.\n",
      "GA destinations saved to ./inputs/tract/GA/GA-STU-moud-dests.csv\n"
     ]
    },
    {
     "name": "stderr",
     "output_type": "stream",
     "text": [
      "WARNING:spatial_access.p2p:You should use tmx instead of csv for significantly better performance\n"
     ]
    },
    {
     "name": "stdout",
     "output_type": "stream",
     "text": [
      "GA transformed matrix saved to ./inputs/tract/GA/GA-transformed-matrix.csv\n"
     ]
    },
    {
     "name": "stderr",
     "output_type": "stream",
     "text": [
      "INFO:spatial_access.BaseModel:Using weights: {'STU': [1, 1, 1]}\n"
     ]
    },
    {
     "name": "stdout",
     "output_type": "stream",
     "text": [
      "GA access metrics for STU complete!\n",
      "Skipping tl_2010_us_state10.zip, it's already downloaded.\n",
      "Skipping tl_2010_us_state10.zip, it's already extracted.\n",
      "Skipping tl_2010_56_tract10.zip, it's already downloaded.\n",
      "Skipping tl_2010_56_tract10.zip, it's already extracted.\n",
      "Skipping tl_2010_41_tract10.zip, it's already downloaded.\n",
      "Skipping tl_2010_41_tract10.zip, it's already extracted.\n",
      "Skipping tl_2010_32_tract10.zip, it's already downloaded.\n",
      "Skipping tl_2010_32_tract10.zip, it's already extracted.\n",
      "Skipping tl_2010_49_tract10.zip, it's already downloaded.\n",
      "Skipping tl_2010_49_tract10.zip, it's already extracted.\n",
      "Skipping tl_2010_30_tract10.zip, it's already downloaded.\n",
      "Skipping tl_2010_30_tract10.zip, it's already extracted.\n",
      "Skipping tl_2010_53_tract10.zip, it's already downloaded.\n",
      "Skipping tl_2010_53_tract10.zip, it's already extracted.\n",
      "Skipping tl_2010_16_tract10.zip, it's already downloaded.\n",
      "Skipping tl_2010_16_tract10.zip, it's already extracted.\n",
      "ID destinations saved to ./inputs/tract/ID/ID-STU-moud-dests.csv\n"
     ]
    },
    {
     "name": "stderr",
     "output_type": "stream",
     "text": [
      "WARNING:spatial_access.p2p:You should use tmx instead of csv for significantly better performance\n",
      "INFO:spatial_access.BaseModel:Using weights: {'STU': [1, 1, 1]}\n"
     ]
    },
    {
     "name": "stdout",
     "output_type": "stream",
     "text": [
      "ID transformed matrix saved to ./inputs/tract/ID/ID-transformed-matrix.csv\n",
      "ID access metrics for STU complete!\n",
      "Skipping tl_2010_us_state10.zip, it's already downloaded.\n",
      "Skipping tl_2010_us_state10.zip, it's already extracted.\n",
      "Skipping tl_2010_55_tract10.zip, it's already downloaded.\n",
      "Skipping tl_2010_55_tract10.zip, it's already extracted.\n",
      "Skipping tl_2010_26_tract10.zip, it's already downloaded.\n",
      "Skipping tl_2010_26_tract10.zip, it's already extracted.\n",
      "Skipping tl_2010_21_tract10.zip, it's already downloaded.\n",
      "Skipping tl_2010_21_tract10.zip, it's already extracted.\n",
      "Skipping tl_2010_29_tract10.zip, it's already downloaded.\n",
      "Skipping tl_2010_29_tract10.zip, it's already extracted.\n",
      "Skipping tl_2010_17_tract10.zip, it's already downloaded.\n",
      "Skipping tl_2010_17_tract10.zip, it's already extracted.\n",
      "Skipping tl_2010_47_tract10.zip, it's already downloaded.\n",
      "Skipping tl_2010_47_tract10.zip, it's already extracted.\n",
      "Skipping tl_2010_18_tract10.zip, it's already downloaded.\n",
      "Skipping tl_2010_18_tract10.zip, it's already extracted.\n",
      "Skipping tl_2010_19_tract10.zip, it's already downloaded.\n",
      "Skipping tl_2010_19_tract10.zip, it's already extracted.\n",
      "IL destinations saved to ./inputs/tract/IL/IL-STU-moud-dests.csv\n"
     ]
    },
    {
     "name": "stderr",
     "output_type": "stream",
     "text": [
      "WARNING:spatial_access.p2p:You should use tmx instead of csv for significantly better performance\n"
     ]
    },
    {
     "name": "stdout",
     "output_type": "stream",
     "text": [
      "IL transformed matrix saved to ./inputs/tract/IL/IL-transformed-matrix.csv\n"
     ]
    },
    {
     "name": "stderr",
     "output_type": "stream",
     "text": [
      "INFO:spatial_access.BaseModel:Using weights: {'STU': [1, 1, 1]}\n"
     ]
    },
    {
     "name": "stdout",
     "output_type": "stream",
     "text": [
      "IL access metrics for STU complete!\n",
      "Skipping tl_2010_us_state10.zip, it's already downloaded.\n",
      "Skipping tl_2010_us_state10.zip, it's already extracted.\n",
      "Skipping tl_2010_39_tract10.zip, it's already downloaded.\n",
      "Skipping tl_2010_39_tract10.zip, it's already extracted.\n",
      "Skipping tl_2010_26_tract10.zip, it's already downloaded.\n",
      "Skipping tl_2010_26_tract10.zip, it's already extracted.\n",
      "Skipping tl_2010_21_tract10.zip, it's already downloaded.\n",
      "Skipping tl_2010_21_tract10.zip, it's already extracted.\n",
      "Skipping tl_2010_17_tract10.zip, it's already downloaded.\n",
      "Skipping tl_2010_17_tract10.zip, it's already extracted.\n",
      "Skipping tl_2010_18_tract10.zip, it's already downloaded.\n",
      "Skipping tl_2010_18_tract10.zip, it's already extracted.\n",
      "IN destinations saved to ./inputs/tract/IN/IN-STU-moud-dests.csv\n"
     ]
    },
    {
     "name": "stderr",
     "output_type": "stream",
     "text": [
      "WARNING:spatial_access.p2p:You should use tmx instead of csv for significantly better performance\n"
     ]
    },
    {
     "name": "stdout",
     "output_type": "stream",
     "text": [
      "IN transformed matrix saved to ./inputs/tract/IN/IN-transformed-matrix.csv\n"
     ]
    },
    {
     "name": "stderr",
     "output_type": "stream",
     "text": [
      "INFO:spatial_access.BaseModel:Using weights: {'STU': [1, 1, 1]}\n"
     ]
    },
    {
     "name": "stdout",
     "output_type": "stream",
     "text": [
      "IN access metrics for STU complete!\n",
      "Skipping tl_2010_us_state10.zip, it's already downloaded.\n",
      "Skipping tl_2010_us_state10.zip, it's already extracted.\n",
      "Skipping tl_2010_55_tract10.zip, it's already downloaded.\n",
      "Skipping tl_2010_55_tract10.zip, it's already extracted.\n",
      "Skipping tl_2010_31_tract10.zip, it's already downloaded.\n",
      "Skipping tl_2010_31_tract10.zip, it's already extracted.\n",
      "Skipping tl_2010_29_tract10.zip, it's already downloaded.\n",
      "Skipping tl_2010_29_tract10.zip, it's already extracted.\n",
      "Skipping tl_2010_46_tract10.zip, it's already downloaded.\n",
      "Skipping tl_2010_46_tract10.zip, it's already extracted.\n",
      "Skipping tl_2010_17_tract10.zip, it's already downloaded.\n",
      "Skipping tl_2010_17_tract10.zip, it's already extracted.\n",
      "Skipping tl_2010_19_tract10.zip, it's already downloaded.\n",
      "Skipping tl_2010_19_tract10.zip, it's already extracted.\n",
      "Skipping tl_2010_27_tract10.zip, it's already downloaded.\n",
      "Skipping tl_2010_27_tract10.zip, it's already extracted.\n",
      "IA destinations saved to ./inputs/tract/IA/IA-STU-moud-dests.csv\n"
     ]
    },
    {
     "name": "stderr",
     "output_type": "stream",
     "text": [
      "WARNING:spatial_access.p2p:You should use tmx instead of csv for significantly better performance\n",
      "INFO:spatial_access.BaseModel:Using weights: {'STU': [1, 1, 1]}\n"
     ]
    },
    {
     "name": "stdout",
     "output_type": "stream",
     "text": [
      "IA transformed matrix saved to ./inputs/tract/IA/IA-transformed-matrix.csv\n",
      "IA access metrics for STU complete!\n",
      "Skipping tl_2010_us_state10.zip, it's already downloaded.\n",
      "Skipping tl_2010_us_state10.zip, it's already extracted.\n",
      "Skipping tl_2010_05_tract10.zip, it's already downloaded.\n",
      "Skipping tl_2010_05_tract10.zip, it's already extracted.\n",
      "Skipping tl_2010_20_tract10.zip, it's already downloaded.\n",
      "Skipping tl_2010_20_tract10.zip, it's already extracted.\n",
      "Skipping tl_2010_31_tract10.zip, it's already downloaded.\n",
      "Skipping tl_2010_31_tract10.zip, it's already extracted.\n",
      "Skipping tl_2010_40_tract10.zip, it's already downloaded.\n",
      "Skipping tl_2010_40_tract10.zip, it's already extracted.\n",
      "Skipping tl_2010_08_tract10.zip, it's already downloaded.\n",
      "Skipping tl_2010_08_tract10.zip, it's already extracted.\n",
      "Skipping tl_2010_29_tract10.zip, it's already downloaded.\n",
      "Skipping tl_2010_29_tract10.zip, it's already extracted.\n",
      "Skipping tl_2010_48_tract10.zip, it's already downloaded.\n",
      "Skipping tl_2010_48_tract10.zip, it's already extracted.\n",
      "KS destinations saved to ./inputs/tract/KS/KS-STU-moud-dests.csv\n"
     ]
    },
    {
     "name": "stderr",
     "output_type": "stream",
     "text": [
      "WARNING:spatial_access.p2p:You should use tmx instead of csv for significantly better performance\n",
      "INFO:spatial_access.BaseModel:Using weights: {'STU': [1, 1, 1]}\n"
     ]
    },
    {
     "name": "stdout",
     "output_type": "stream",
     "text": [
      "KS transformed matrix saved to ./inputs/tract/KS/KS-transformed-matrix.csv\n",
      "KS access metrics for STU complete!\n",
      "Skipping tl_2010_us_state10.zip, it's already downloaded.\n",
      "Skipping tl_2010_us_state10.zip, it's already extracted.\n",
      "Skipping tl_2010_39_tract10.zip, it's already downloaded.\n",
      "Skipping tl_2010_39_tract10.zip, it's already extracted.\n",
      "Skipping tl_2010_54_tract10.zip, it's already downloaded.\n",
      "Skipping tl_2010_54_tract10.zip, it's already extracted.\n",
      "Skipping tl_2010_21_tract10.zip, it's already downloaded.\n",
      "Skipping tl_2010_21_tract10.zip, it's already extracted.\n",
      "Skipping tl_2010_29_tract10.zip, it's already downloaded.\n",
      "Skipping tl_2010_29_tract10.zip, it's already extracted.\n",
      "Skipping tl_2010_17_tract10.zip, it's already downloaded.\n",
      "Skipping tl_2010_17_tract10.zip, it's already extracted.\n",
      "Skipping tl_2010_47_tract10.zip, it's already downloaded.\n",
      "Skipping tl_2010_47_tract10.zip, it's already extracted.\n",
      "Skipping tl_2010_18_tract10.zip, it's already downloaded.\n",
      "Skipping tl_2010_18_tract10.zip, it's already extracted.\n",
      "Skipping tl_2010_51_tract10.zip, it's already downloaded.\n",
      "Skipping tl_2010_51_tract10.zip, it's already extracted.\n",
      "KY destinations saved to ./inputs/tract/KY/KY-STU-moud-dests.csv\n"
     ]
    },
    {
     "name": "stderr",
     "output_type": "stream",
     "text": [
      "WARNING:spatial_access.p2p:You should use tmx instead of csv for significantly better performance\n"
     ]
    },
    {
     "name": "stdout",
     "output_type": "stream",
     "text": [
      "KY transformed matrix saved to ./inputs/tract/KY/KY-transformed-matrix.csv\n"
     ]
    },
    {
     "name": "stderr",
     "output_type": "stream",
     "text": [
      "INFO:spatial_access.BaseModel:Using weights: {'STU': [1, 1, 1]}\n"
     ]
    },
    {
     "name": "stdout",
     "output_type": "stream",
     "text": [
      "KY access metrics for STU complete!\n",
      "Skipping tl_2010_us_state10.zip, it's already downloaded.\n",
      "Skipping tl_2010_us_state10.zip, it's already extracted.\n",
      "Skipping tl_2010_05_tract10.zip, it's already downloaded.\n",
      "Skipping tl_2010_05_tract10.zip, it's already extracted.\n",
      "Skipping tl_2010_28_tract10.zip, it's already downloaded.\n",
      "Skipping tl_2010_28_tract10.zip, it's already extracted.\n",
      "Skipping tl_2010_01_tract10.zip, it's already downloaded.\n",
      "Skipping tl_2010_01_tract10.zip, it's already extracted.\n",
      "Skipping tl_2010_22_tract10.zip, it's already downloaded.\n",
      "Skipping tl_2010_22_tract10.zip, it's already extracted.\n",
      "Skipping tl_2010_48_tract10.zip, it's already downloaded.\n",
      "Skipping tl_2010_48_tract10.zip, it's already extracted.\n",
      "LA destinations saved to ./inputs/tract/LA/LA-STU-moud-dests.csv\n"
     ]
    },
    {
     "name": "stderr",
     "output_type": "stream",
     "text": [
      "WARNING:spatial_access.p2p:You should use tmx instead of csv for significantly better performance\n",
      "INFO:spatial_access.BaseModel:Using weights: {'STU': [1, 1, 1]}\n"
     ]
    },
    {
     "name": "stdout",
     "output_type": "stream",
     "text": [
      "LA transformed matrix saved to ./inputs/tract/LA/LA-transformed-matrix.csv\n",
      "LA access metrics for STU complete!\n",
      "Skipping tl_2010_us_state10.zip, it's already downloaded.\n",
      "Skipping tl_2010_us_state10.zip, it's already extracted.\n",
      "Skipping tl_2010_25_tract10.zip, it's already downloaded.\n",
      "Skipping tl_2010_25_tract10.zip, it's already extracted.\n",
      "Skipping tl_2010_33_tract10.zip, it's already downloaded.\n",
      "Skipping tl_2010_33_tract10.zip, it's already extracted.\n",
      "Skipping tl_2010_50_tract10.zip, it's already downloaded.\n",
      "Skipping tl_2010_50_tract10.zip, it's already extracted.\n",
      "Skipping tl_2010_23_tract10.zip, it's already downloaded.\n",
      "Skipping tl_2010_23_tract10.zip, it's already extracted.\n",
      "ME destinations saved to ./inputs/tract/ME/ME-STU-moud-dests.csv\n"
     ]
    },
    {
     "name": "stderr",
     "output_type": "stream",
     "text": [
      "WARNING:spatial_access.p2p:You should use tmx instead of csv for significantly better performance\n",
      "INFO:spatial_access.BaseModel:Using weights: {'STU': [1, 1, 1]}\n"
     ]
    },
    {
     "name": "stdout",
     "output_type": "stream",
     "text": [
      "ME transformed matrix saved to ./inputs/tract/ME/ME-transformed-matrix.csv\n",
      "ME access metrics for STU complete!\n",
      "Skipping tl_2010_us_state10.zip, it's already downloaded.\n",
      "Skipping tl_2010_us_state10.zip, it's already extracted.\n",
      "Skipping tl_2010_42_tract10.zip, it's already downloaded.\n",
      "Skipping tl_2010_42_tract10.zip, it's already extracted.\n",
      "Skipping tl_2010_24_tract10.zip, it's already downloaded.\n",
      "Skipping tl_2010_24_tract10.zip, it's already extracted.\n",
      "Skipping tl_2010_54_tract10.zip, it's already downloaded.\n",
      "Skipping tl_2010_54_tract10.zip, it's already extracted.\n",
      "Skipping tl_2010_34_tract10.zip, it's already downloaded.\n",
      "Skipping tl_2010_34_tract10.zip, it's already extracted.\n",
      "Skipping tl_2010_10_tract10.zip, it's already downloaded.\n",
      "Skipping tl_2010_10_tract10.zip, it's already extracted.\n",
      "Skipping tl_2010_11_tract10.zip, it's already downloaded.\n",
      "Skipping tl_2010_11_tract10.zip, it's already extracted.\n",
      "Skipping tl_2010_51_tract10.zip, it's already downloaded.\n",
      "Skipping tl_2010_51_tract10.zip, it's already extracted.\n",
      "MD destinations saved to ./inputs/tract/MD/MD-STU-moud-dests.csv\n"
     ]
    },
    {
     "name": "stderr",
     "output_type": "stream",
     "text": [
      "WARNING:spatial_access.p2p:You should use tmx instead of csv for significantly better performance\n"
     ]
    },
    {
     "name": "stdout",
     "output_type": "stream",
     "text": [
      "MD transformed matrix saved to ./inputs/tract/MD/MD-transformed-matrix.csv\n"
     ]
    },
    {
     "name": "stderr",
     "output_type": "stream",
     "text": [
      "INFO:spatial_access.BaseModel:Using weights: {'STU': [1, 1, 1]}\n"
     ]
    },
    {
     "name": "stdout",
     "output_type": "stream",
     "text": [
      "MD access metrics for STU complete!\n",
      "Skipping tl_2010_us_state10.zip, it's already downloaded.\n",
      "Skipping tl_2010_us_state10.zip, it's already extracted.\n",
      "Skipping tl_2010_44_tract10.zip, it's already downloaded.\n",
      "Skipping tl_2010_44_tract10.zip, it's already extracted.\n",
      "Skipping tl_2010_36_tract10.zip, it's already downloaded.\n",
      "Skipping tl_2010_36_tract10.zip, it's already extracted.\n",
      "Skipping tl_2010_09_tract10.zip, it's already downloaded.\n",
      "Skipping tl_2010_09_tract10.zip, it's already extracted.\n",
      "Skipping tl_2010_25_tract10.zip, it's already downloaded.\n",
      "Skipping tl_2010_25_tract10.zip, it's already extracted.\n",
      "Skipping tl_2010_33_tract10.zip, it's already downloaded.\n",
      "Skipping tl_2010_33_tract10.zip, it's already extracted.\n",
      "Skipping tl_2010_50_tract10.zip, it's already downloaded.\n",
      "Skipping tl_2010_50_tract10.zip, it's already extracted.\n",
      "Skipping tl_2010_23_tract10.zip, it's already downloaded.\n",
      "Skipping tl_2010_23_tract10.zip, it's already extracted.\n",
      "MA destinations saved to ./inputs/tract/MA/MA-STU-moud-dests.csv\n"
     ]
    },
    {
     "name": "stderr",
     "output_type": "stream",
     "text": [
      "WARNING:spatial_access.p2p:You should use tmx instead of csv for significantly better performance\n"
     ]
    },
    {
     "name": "stdout",
     "output_type": "stream",
     "text": [
      "MA transformed matrix saved to ./inputs/tract/MA/MA-transformed-matrix.csv\n"
     ]
    },
    {
     "name": "stderr",
     "output_type": "stream",
     "text": [
      "INFO:spatial_access.BaseModel:Using weights: {'STU': [1, 1, 1]}\n"
     ]
    },
    {
     "name": "stdout",
     "output_type": "stream",
     "text": [
      "MA access metrics for STU complete!\n",
      "Skipping tl_2010_us_state10.zip, it's already downloaded.\n",
      "Skipping tl_2010_us_state10.zip, it's already extracted.\n",
      "Skipping tl_2010_39_tract10.zip, it's already downloaded.\n",
      "Skipping tl_2010_39_tract10.zip, it's already extracted.\n",
      "Skipping tl_2010_55_tract10.zip, it's already downloaded.\n",
      "Skipping tl_2010_55_tract10.zip, it's already extracted.\n",
      "Skipping tl_2010_26_tract10.zip, it's already downloaded.\n",
      "Skipping tl_2010_26_tract10.zip, it's already extracted.\n",
      "Skipping tl_2010_17_tract10.zip, it's already downloaded.\n",
      "Skipping tl_2010_17_tract10.zip, it's already extracted.\n",
      "Skipping tl_2010_18_tract10.zip, it's already downloaded.\n",
      "Skipping tl_2010_18_tract10.zip, it's already extracted.\n",
      "Skipping tl_2010_27_tract10.zip, it's already downloaded.\n",
      "Skipping tl_2010_27_tract10.zip, it's already extracted.\n",
      "MI destinations saved to ./inputs/tract/MI/MI-STU-moud-dests.csv\n"
     ]
    },
    {
     "name": "stderr",
     "output_type": "stream",
     "text": [
      "WARNING:spatial_access.p2p:You should use tmx instead of csv for significantly better performance\n"
     ]
    },
    {
     "name": "stdout",
     "output_type": "stream",
     "text": [
      "MI transformed matrix saved to ./inputs/tract/MI/MI-transformed-matrix.csv\n"
     ]
    },
    {
     "name": "stderr",
     "output_type": "stream",
     "text": [
      "INFO:spatial_access.BaseModel:Using weights: {'STU': [1, 1, 1]}\n"
     ]
    },
    {
     "name": "stdout",
     "output_type": "stream",
     "text": [
      "MI access metrics for STU complete!\n",
      "Skipping tl_2010_us_state10.zip, it's already downloaded.\n",
      "Skipping tl_2010_us_state10.zip, it's already extracted.\n",
      "Skipping tl_2010_55_tract10.zip, it's already downloaded.\n",
      "Skipping tl_2010_55_tract10.zip, it's already extracted.\n",
      "Skipping tl_2010_38_tract10.zip, it's already downloaded.\n",
      "Skipping tl_2010_38_tract10.zip, it's already extracted.\n",
      "Skipping tl_2010_26_tract10.zip, it's already downloaded.\n",
      "Skipping tl_2010_26_tract10.zip, it's already extracted.\n",
      "Skipping tl_2010_46_tract10.zip, it's already downloaded.\n",
      "Skipping tl_2010_46_tract10.zip, it's already extracted.\n",
      "Skipping tl_2010_19_tract10.zip, it's already downloaded.\n",
      "Skipping tl_2010_19_tract10.zip, it's already extracted.\n",
      "Skipping tl_2010_27_tract10.zip, it's already downloaded.\n",
      "Skipping tl_2010_27_tract10.zip, it's already extracted.\n",
      "MN destinations saved to ./inputs/tract/MN/MN-STU-moud-dests.csv\n"
     ]
    },
    {
     "name": "stderr",
     "output_type": "stream",
     "text": [
      "WARNING:spatial_access.p2p:You should use tmx instead of csv for significantly better performance\n",
      "INFO:spatial_access.BaseModel:Using weights: {'STU': [1, 1, 1]}\n"
     ]
    },
    {
     "name": "stdout",
     "output_type": "stream",
     "text": [
      "MN transformed matrix saved to ./inputs/tract/MN/MN-transformed-matrix.csv\n",
      "MN access metrics for STU complete!\n",
      "Skipping tl_2010_us_state10.zip, it's already downloaded.\n",
      "Skipping tl_2010_us_state10.zip, it's already extracted.\n",
      "Skipping tl_2010_05_tract10.zip, it's already downloaded.\n",
      "Skipping tl_2010_05_tract10.zip, it's already extracted.\n",
      "Skipping tl_2010_28_tract10.zip, it's already downloaded.\n",
      "Skipping tl_2010_28_tract10.zip, it's already extracted.\n",
      "Skipping tl_2010_01_tract10.zip, it's already downloaded.\n",
      "Skipping tl_2010_01_tract10.zip, it's already extracted.\n",
      "Skipping tl_2010_47_tract10.zip, it's already downloaded.\n",
      "Skipping tl_2010_47_tract10.zip, it's already extracted.\n",
      "Skipping tl_2010_22_tract10.zip, it's already downloaded.\n",
      "Skipping tl_2010_22_tract10.zip, it's already extracted.\n",
      "MS destinations saved to ./inputs/tract/MS/MS-STU-moud-dests.csv\n"
     ]
    },
    {
     "name": "stderr",
     "output_type": "stream",
     "text": [
      "WARNING:spatial_access.p2p:You should use tmx instead of csv for significantly better performance\n",
      "INFO:spatial_access.BaseModel:Using weights: {'STU': [1, 1, 1]}\n"
     ]
    },
    {
     "name": "stdout",
     "output_type": "stream",
     "text": [
      "MS transformed matrix saved to ./inputs/tract/MS/MS-transformed-matrix.csv\n",
      "MS access metrics for STU complete!\n",
      "Skipping tl_2010_us_state10.zip, it's already downloaded.\n",
      "Skipping tl_2010_us_state10.zip, it's already extracted.\n",
      "Skipping tl_2010_05_tract10.zip, it's already downloaded.\n",
      "Skipping tl_2010_05_tract10.zip, it's already extracted.\n",
      "Skipping tl_2010_20_tract10.zip, it's already downloaded.\n",
      "Skipping tl_2010_20_tract10.zip, it's already extracted.\n",
      "Skipping tl_2010_31_tract10.zip, it's already downloaded.\n",
      "Skipping tl_2010_31_tract10.zip, it's already extracted.\n",
      "Skipping tl_2010_40_tract10.zip, it's already downloaded.\n",
      "Skipping tl_2010_40_tract10.zip, it's already extracted.\n",
      "Skipping tl_2010_21_tract10.zip, it's already downloaded.\n",
      "Skipping tl_2010_21_tract10.zip, it's already extracted.\n",
      "Skipping tl_2010_29_tract10.zip, it's already downloaded.\n",
      "Skipping tl_2010_29_tract10.zip, it's already extracted.\n",
      "Skipping tl_2010_17_tract10.zip, it's already downloaded.\n",
      "Skipping tl_2010_17_tract10.zip, it's already extracted.\n",
      "Skipping tl_2010_47_tract10.zip, it's already downloaded.\n",
      "Skipping tl_2010_47_tract10.zip, it's already extracted.\n",
      "Skipping tl_2010_19_tract10.zip, it's already downloaded.\n",
      "Skipping tl_2010_19_tract10.zip, it's already extracted.\n",
      "MO destinations saved to ./inputs/tract/MO/MO-STU-moud-dests.csv\n"
     ]
    },
    {
     "name": "stderr",
     "output_type": "stream",
     "text": [
      "WARNING:spatial_access.p2p:You should use tmx instead of csv for significantly better performance\n"
     ]
    },
    {
     "name": "stdout",
     "output_type": "stream",
     "text": [
      "MO transformed matrix saved to ./inputs/tract/MO/MO-transformed-matrix.csv\n"
     ]
    },
    {
     "name": "stderr",
     "output_type": "stream",
     "text": [
      "INFO:spatial_access.BaseModel:Using weights: {'STU': [1, 1, 1]}\n"
     ]
    },
    {
     "name": "stdout",
     "output_type": "stream",
     "text": [
      "MO access metrics for STU complete!\n",
      "Skipping tl_2010_us_state10.zip, it's already downloaded.\n",
      "Skipping tl_2010_us_state10.zip, it's already extracted.\n",
      "Skipping tl_2010_56_tract10.zip, it's already downloaded.\n",
      "Skipping tl_2010_56_tract10.zip, it's already extracted.\n",
      "Skipping tl_2010_38_tract10.zip, it's already downloaded.\n",
      "Skipping tl_2010_38_tract10.zip, it's already extracted.\n",
      "Skipping tl_2010_30_tract10.zip, it's already downloaded.\n",
      "Skipping tl_2010_30_tract10.zip, it's already extracted.\n",
      "Skipping tl_2010_16_tract10.zip, it's already downloaded.\n",
      "Skipping tl_2010_16_tract10.zip, it's already extracted.\n",
      "Skipping tl_2010_46_tract10.zip, it's already downloaded.\n",
      "Skipping tl_2010_46_tract10.zip, it's already extracted.\n"
     ]
    },
    {
     "name": "stderr",
     "output_type": "stream",
     "text": [
      "WARNING:spatial_access.p2p:You should use tmx instead of csv for significantly better performance\n"
     ]
    },
    {
     "name": "stdout",
     "output_type": "stream",
     "text": [
      "MT destinations saved to ./inputs/tract/MT/MT-STU-moud-dests.csv\n",
      "MT transformed matrix saved to ./inputs/tract/MT/MT-transformed-matrix.csv\n"
     ]
    },
    {
     "name": "stderr",
     "output_type": "stream",
     "text": [
      "INFO:spatial_access.BaseModel:Using weights: {'STU': [1, 1, 1]}\n"
     ]
    },
    {
     "name": "stdout",
     "output_type": "stream",
     "text": [
      "MT access metrics for STU complete!\n",
      "Skipping tl_2010_us_state10.zip, it's already downloaded.\n",
      "Skipping tl_2010_us_state10.zip, it's already extracted.\n",
      "Skipping tl_2010_56_tract10.zip, it's already downloaded.\n",
      "Skipping tl_2010_56_tract10.zip, it's already extracted.\n",
      "Skipping tl_2010_20_tract10.zip, it's already downloaded.\n",
      "Skipping tl_2010_20_tract10.zip, it's already extracted.\n",
      "Skipping tl_2010_31_tract10.zip, it's already downloaded.\n",
      "Skipping tl_2010_31_tract10.zip, it's already extracted.\n",
      "Skipping tl_2010_08_tract10.zip, it's already downloaded.\n",
      "Skipping tl_2010_08_tract10.zip, it's already extracted.\n",
      "Skipping tl_2010_29_tract10.zip, it's already downloaded.\n",
      "Skipping tl_2010_29_tract10.zip, it's already extracted.\n",
      "Skipping tl_2010_46_tract10.zip, it's already downloaded.\n",
      "Skipping tl_2010_46_tract10.zip, it's already extracted.\n",
      "Skipping tl_2010_19_tract10.zip, it's already downloaded.\n",
      "Skipping tl_2010_19_tract10.zip, it's already extracted.\n",
      "NE destinations saved to ./inputs/tract/NE/NE-STU-moud-dests.csv\n"
     ]
    },
    {
     "name": "stderr",
     "output_type": "stream",
     "text": [
      "WARNING:spatial_access.p2p:You should use tmx instead of csv for significantly better performance\n",
      "INFO:spatial_access.BaseModel:Using weights: {'STU': [1, 1, 1]}\n"
     ]
    },
    {
     "name": "stdout",
     "output_type": "stream",
     "text": [
      "NE transformed matrix saved to ./inputs/tract/NE/NE-transformed-matrix.csv\n",
      "NE access metrics for STU complete!\n",
      "Skipping tl_2010_us_state10.zip, it's already downloaded.\n",
      "Skipping tl_2010_us_state10.zip, it's already extracted.\n",
      "Skipping tl_2010_41_tract10.zip, it's already downloaded.\n",
      "Skipping tl_2010_41_tract10.zip, it's already extracted.\n",
      "Skipping tl_2010_32_tract10.zip, it's already downloaded.\n",
      "Skipping tl_2010_32_tract10.zip, it's already extracted.\n",
      "Skipping tl_2010_49_tract10.zip, it's already downloaded.\n",
      "Skipping tl_2010_49_tract10.zip, it's already extracted.\n",
      "Skipping tl_2010_06_tract10.zip, it's already downloaded.\n",
      "Skipping tl_2010_06_tract10.zip, it's already extracted.\n",
      "Skipping tl_2010_16_tract10.zip, it's already downloaded.\n",
      "Skipping tl_2010_16_tract10.zip, it's already extracted.\n",
      "Skipping tl_2010_04_tract10.zip, it's already downloaded.\n",
      "Skipping tl_2010_04_tract10.zip, it's already extracted.\n",
      "NV destinations saved to ./inputs/tract/NV/NV-STU-moud-dests.csv\n"
     ]
    },
    {
     "name": "stderr",
     "output_type": "stream",
     "text": [
      "WARNING:spatial_access.p2p:You should use tmx instead of csv for significantly better performance\n",
      "INFO:spatial_access.BaseModel:Using weights: {'STU': [1, 1, 1]}\n"
     ]
    },
    {
     "name": "stdout",
     "output_type": "stream",
     "text": [
      "NV transformed matrix saved to ./inputs/tract/NV/NV-transformed-matrix.csv\n",
      "NV access metrics for STU complete!\n",
      "Skipping tl_2010_us_state10.zip, it's already downloaded.\n",
      "Skipping tl_2010_us_state10.zip, it's already extracted.\n",
      "Skipping tl_2010_25_tract10.zip, it's already downloaded.\n",
      "Skipping tl_2010_25_tract10.zip, it's already extracted.\n",
      "Skipping tl_2010_33_tract10.zip, it's already downloaded.\n",
      "Skipping tl_2010_33_tract10.zip, it's already extracted.\n",
      "Skipping tl_2010_50_tract10.zip, it's already downloaded.\n",
      "Skipping tl_2010_50_tract10.zip, it's already extracted.\n",
      "Skipping tl_2010_23_tract10.zip, it's already downloaded.\n",
      "Skipping tl_2010_23_tract10.zip, it's already extracted.\n",
      "NH destinations saved to ./inputs/tract/NH/NH-STU-moud-dests.csv\n"
     ]
    },
    {
     "name": "stderr",
     "output_type": "stream",
     "text": [
      "WARNING:spatial_access.p2p:You should use tmx instead of csv for significantly better performance\n",
      "INFO:spatial_access.BaseModel:Using weights: {'STU': [1, 1, 1]}\n"
     ]
    },
    {
     "name": "stdout",
     "output_type": "stream",
     "text": [
      "NH transformed matrix saved to ./inputs/tract/NH/NH-transformed-matrix.csv\n",
      "NH access metrics for STU complete!\n",
      "Skipping tl_2010_us_state10.zip, it's already downloaded.\n",
      "Skipping tl_2010_us_state10.zip, it's already extracted.\n",
      "Skipping tl_2010_42_tract10.zip, it's already downloaded.\n",
      "Skipping tl_2010_42_tract10.zip, it's already extracted.\n",
      "Skipping tl_2010_24_tract10.zip, it's already downloaded.\n",
      "Skipping tl_2010_24_tract10.zip, it's already extracted.\n",
      "Skipping tl_2010_36_tract10.zip, it's already downloaded.\n",
      "Skipping tl_2010_36_tract10.zip, it's already extracted.\n",
      "Skipping tl_2010_34_tract10.zip, it's already downloaded.\n",
      "Skipping tl_2010_34_tract10.zip, it's already extracted.\n",
      "Skipping tl_2010_10_tract10.zip, it's already downloaded.\n",
      "Skipping tl_2010_10_tract10.zip, it's already extracted.\n",
      "Skipping tl_2010_09_tract10.zip, it's already downloaded.\n",
      "Skipping tl_2010_09_tract10.zip, it's already extracted.\n",
      "NJ destinations saved to ./inputs/tract/NJ/NJ-STU-moud-dests.csv\n"
     ]
    },
    {
     "name": "stderr",
     "output_type": "stream",
     "text": [
      "WARNING:spatial_access.p2p:You should use tmx instead of csv for significantly better performance\n"
     ]
    },
    {
     "name": "stdout",
     "output_type": "stream",
     "text": [
      "NJ transformed matrix saved to ./inputs/tract/NJ/NJ-transformed-matrix.csv\n"
     ]
    },
    {
     "name": "stderr",
     "output_type": "stream",
     "text": [
      "INFO:spatial_access.BaseModel:Using weights: {'STU': [1, 1, 1]}\n"
     ]
    },
    {
     "name": "stdout",
     "output_type": "stream",
     "text": [
      "NJ access metrics for STU complete!\n",
      "Skipping tl_2010_us_state10.zip, it's already downloaded.\n",
      "Skipping tl_2010_us_state10.zip, it's already extracted.\n",
      "Skipping tl_2010_35_tract10.zip, it's already downloaded.\n",
      "Skipping tl_2010_35_tract10.zip, it's already extracted.\n",
      "Skipping tl_2010_49_tract10.zip, it's already downloaded.\n",
      "Skipping tl_2010_49_tract10.zip, it's already extracted.\n",
      "Skipping tl_2010_40_tract10.zip, it's already downloaded.\n",
      "Skipping tl_2010_40_tract10.zip, it's already extracted.\n",
      "Skipping tl_2010_08_tract10.zip, it's already downloaded.\n",
      "Skipping tl_2010_08_tract10.zip, it's already extracted.\n",
      "Skipping tl_2010_04_tract10.zip, it's already downloaded.\n",
      "Skipping tl_2010_04_tract10.zip, it's already extracted.\n",
      "Skipping tl_2010_48_tract10.zip, it's already downloaded.\n",
      "Skipping tl_2010_48_tract10.zip, it's already extracted.\n",
      "NM destinations saved to ./inputs/tract/NM/NM-STU-moud-dests.csv\n"
     ]
    },
    {
     "name": "stderr",
     "output_type": "stream",
     "text": [
      "WARNING:spatial_access.p2p:You should use tmx instead of csv for significantly better performance\n",
      "INFO:spatial_access.BaseModel:Using weights: {'STU': [1, 1, 1]}\n"
     ]
    },
    {
     "name": "stdout",
     "output_type": "stream",
     "text": [
      "NM transformed matrix saved to ./inputs/tract/NM/NM-transformed-matrix.csv\n",
      "NM access metrics for STU complete!\n",
      "Skipping tl_2010_us_state10.zip, it's already downloaded.\n",
      "Skipping tl_2010_us_state10.zip, it's already extracted.\n",
      "Skipping tl_2010_42_tract10.zip, it's already downloaded.\n",
      "Skipping tl_2010_42_tract10.zip, it's already extracted.\n",
      "Skipping tl_2010_44_tract10.zip, it's already downloaded.\n",
      "Skipping tl_2010_44_tract10.zip, it's already extracted.\n",
      "Skipping tl_2010_36_tract10.zip, it's already downloaded.\n",
      "Skipping tl_2010_36_tract10.zip, it's already extracted.\n",
      "Skipping tl_2010_34_tract10.zip, it's already downloaded.\n",
      "Skipping tl_2010_34_tract10.zip, it's already extracted.\n",
      "Skipping tl_2010_09_tract10.zip, it's already downloaded.\n",
      "Skipping tl_2010_09_tract10.zip, it's already extracted.\n",
      "Skipping tl_2010_25_tract10.zip, it's already downloaded.\n",
      "Skipping tl_2010_25_tract10.zip, it's already extracted.\n",
      "Skipping tl_2010_50_tract10.zip, it's already downloaded.\n",
      "Skipping tl_2010_50_tract10.zip, it's already extracted.\n",
      "NY destinations saved to ./inputs/tract/NY/NY-STU-moud-dests.csv\n"
     ]
    },
    {
     "name": "stderr",
     "output_type": "stream",
     "text": [
      "WARNING:spatial_access.p2p:You should use tmx instead of csv for significantly better performance\n"
     ]
    },
    {
     "name": "stdout",
     "output_type": "stream",
     "text": [
      "NY transformed matrix saved to ./inputs/tract/NY/NY-transformed-matrix.csv\n"
     ]
    },
    {
     "name": "stderr",
     "output_type": "stream",
     "text": [
      "INFO:spatial_access.BaseModel:Using weights: {'STU': [1, 1, 1]}\n"
     ]
    },
    {
     "name": "stdout",
     "output_type": "stream",
     "text": [
      "NY access metrics for STU complete!\n",
      "Skipping tl_2010_us_state10.zip, it's already downloaded.\n",
      "Skipping tl_2010_us_state10.zip, it's already extracted.\n",
      "Skipping tl_2010_13_tract10.zip, it's already downloaded.\n",
      "Skipping tl_2010_13_tract10.zip, it's already extracted.\n",
      "Skipping tl_2010_45_tract10.zip, it's already downloaded.\n",
      "Skipping tl_2010_45_tract10.zip, it's already extracted.\n",
      "Skipping tl_2010_47_tract10.zip, it's already downloaded.\n",
      "Skipping tl_2010_47_tract10.zip, it's already extracted.\n",
      "Skipping tl_2010_51_tract10.zip, it's already downloaded.\n",
      "Skipping tl_2010_51_tract10.zip, it's already extracted.\n",
      "Skipping tl_2010_37_tract10.zip, it's already downloaded.\n",
      "Skipping tl_2010_37_tract10.zip, it's already extracted.\n",
      "NC destinations saved to ./inputs/tract/NC/NC-STU-moud-dests.csv\n"
     ]
    },
    {
     "name": "stderr",
     "output_type": "stream",
     "text": [
      "WARNING:spatial_access.p2p:You should use tmx instead of csv for significantly better performance\n"
     ]
    },
    {
     "name": "stdout",
     "output_type": "stream",
     "text": [
      "NC transformed matrix saved to ./inputs/tract/NC/NC-transformed-matrix.csv\n"
     ]
    },
    {
     "name": "stderr",
     "output_type": "stream",
     "text": [
      "INFO:spatial_access.BaseModel:Using weights: {'STU': [1, 1, 1]}\n"
     ]
    },
    {
     "name": "stdout",
     "output_type": "stream",
     "text": [
      "NC access metrics for STU complete!\n",
      "Skipping tl_2010_us_state10.zip, it's already downloaded.\n",
      "Skipping tl_2010_us_state10.zip, it's already extracted.\n",
      "Skipping tl_2010_38_tract10.zip, it's already downloaded.\n",
      "Skipping tl_2010_38_tract10.zip, it's already extracted.\n",
      "Skipping tl_2010_30_tract10.zip, it's already downloaded.\n",
      "Skipping tl_2010_30_tract10.zip, it's already extracted.\n",
      "Skipping tl_2010_46_tract10.zip, it's already downloaded.\n",
      "Skipping tl_2010_46_tract10.zip, it's already extracted.\n",
      "Skipping tl_2010_27_tract10.zip, it's already downloaded.\n",
      "Skipping tl_2010_27_tract10.zip, it's already extracted.\n"
     ]
    },
    {
     "name": "stderr",
     "output_type": "stream",
     "text": [
      "WARNING:spatial_access.p2p:You should use tmx instead of csv for significantly better performance\n",
      "INFO:spatial_access.BaseModel:Using weights: {'STU': [1, 1, 1]}\n"
     ]
    },
    {
     "name": "stdout",
     "output_type": "stream",
     "text": [
      "ND destinations saved to ./inputs/tract/ND/ND-STU-moud-dests.csv\n",
      "ND transformed matrix saved to ./inputs/tract/ND/ND-transformed-matrix.csv\n",
      "ND access metrics for STU complete!\n",
      "Skipping tl_2010_us_state10.zip, it's already downloaded.\n",
      "Skipping tl_2010_us_state10.zip, it's already extracted.\n",
      "Skipping tl_2010_42_tract10.zip, it's already downloaded.\n",
      "Skipping tl_2010_42_tract10.zip, it's already extracted.\n",
      "Skipping tl_2010_39_tract10.zip, it's already downloaded.\n",
      "Skipping tl_2010_39_tract10.zip, it's already extracted.\n",
      "Skipping tl_2010_54_tract10.zip, it's already downloaded.\n",
      "Skipping tl_2010_54_tract10.zip, it's already extracted.\n",
      "Skipping tl_2010_26_tract10.zip, it's already downloaded.\n",
      "Skipping tl_2010_26_tract10.zip, it's already extracted.\n",
      "Skipping tl_2010_21_tract10.zip, it's already downloaded.\n",
      "Skipping tl_2010_21_tract10.zip, it's already extracted.\n",
      "Skipping tl_2010_18_tract10.zip, it's already downloaded.\n",
      "Skipping tl_2010_18_tract10.zip, it's already extracted.\n",
      "OH destinations saved to ./inputs/tract/OH/OH-STU-moud-dests.csv\n"
     ]
    },
    {
     "name": "stderr",
     "output_type": "stream",
     "text": [
      "WARNING:spatial_access.p2p:You should use tmx instead of csv for significantly better performance\n"
     ]
    },
    {
     "name": "stdout",
     "output_type": "stream",
     "text": [
      "OH transformed matrix saved to ./inputs/tract/OH/OH-transformed-matrix.csv\n"
     ]
    },
    {
     "name": "stderr",
     "output_type": "stream",
     "text": [
      "INFO:spatial_access.BaseModel:Using weights: {'STU': [1, 1, 1]}\n"
     ]
    },
    {
     "name": "stdout",
     "output_type": "stream",
     "text": [
      "OH access metrics for STU complete!\n",
      "Skipping tl_2010_us_state10.zip, it's already downloaded.\n",
      "Skipping tl_2010_us_state10.zip, it's already extracted.\n",
      "Skipping tl_2010_35_tract10.zip, it's already downloaded.\n",
      "Skipping tl_2010_35_tract10.zip, it's already extracted.\n",
      "Skipping tl_2010_05_tract10.zip, it's already downloaded.\n",
      "Skipping tl_2010_05_tract10.zip, it's already extracted.\n",
      "Skipping tl_2010_20_tract10.zip, it's already downloaded.\n",
      "Skipping tl_2010_20_tract10.zip, it's already extracted.\n",
      "Skipping tl_2010_40_tract10.zip, it's already downloaded.\n",
      "Skipping tl_2010_40_tract10.zip, it's already extracted.\n",
      "Skipping tl_2010_08_tract10.zip, it's already downloaded.\n",
      "Skipping tl_2010_08_tract10.zip, it's already extracted.\n",
      "Skipping tl_2010_29_tract10.zip, it's already downloaded.\n",
      "Skipping tl_2010_29_tract10.zip, it's already extracted.\n",
      "Skipping tl_2010_48_tract10.zip, it's already downloaded.\n",
      "Skipping tl_2010_48_tract10.zip, it's already extracted.\n",
      "OK destinations saved to ./inputs/tract/OK/OK-STU-moud-dests.csv\n"
     ]
    },
    {
     "name": "stderr",
     "output_type": "stream",
     "text": [
      "WARNING:spatial_access.p2p:You should use tmx instead of csv for significantly better performance\n",
      "INFO:spatial_access.BaseModel:Using weights: {'STU': [1, 1, 1]}\n"
     ]
    },
    {
     "name": "stdout",
     "output_type": "stream",
     "text": [
      "OK transformed matrix saved to ./inputs/tract/OK/OK-transformed-matrix.csv\n",
      "OK access metrics for STU complete!\n",
      "Skipping tl_2010_us_state10.zip, it's already downloaded.\n",
      "Skipping tl_2010_us_state10.zip, it's already extracted.\n",
      "Skipping tl_2010_41_tract10.zip, it's already downloaded.\n",
      "Skipping tl_2010_41_tract10.zip, it's already extracted.\n",
      "Skipping tl_2010_32_tract10.zip, it's already downloaded.\n",
      "Skipping tl_2010_32_tract10.zip, it's already extracted.\n",
      "Skipping tl_2010_53_tract10.zip, it's already downloaded.\n",
      "Skipping tl_2010_53_tract10.zip, it's already extracted.\n",
      "Skipping tl_2010_06_tract10.zip, it's already downloaded.\n",
      "Skipping tl_2010_06_tract10.zip, it's already extracted.\n",
      "Skipping tl_2010_16_tract10.zip, it's already downloaded.\n",
      "Skipping tl_2010_16_tract10.zip, it's already extracted.\n",
      "OR destinations saved to ./inputs/tract/OR/OR-STU-moud-dests.csv\n"
     ]
    },
    {
     "name": "stderr",
     "output_type": "stream",
     "text": [
      "WARNING:spatial_access.p2p:You should use tmx instead of csv for significantly better performance\n",
      "INFO:spatial_access.BaseModel:Using weights: {'STU': [1, 1, 1]}\n"
     ]
    },
    {
     "name": "stdout",
     "output_type": "stream",
     "text": [
      "OR transformed matrix saved to ./inputs/tract/OR/OR-transformed-matrix.csv\n",
      "OR access metrics for STU complete!\n",
      "Skipping tl_2010_us_state10.zip, it's already downloaded.\n",
      "Skipping tl_2010_us_state10.zip, it's already extracted.\n",
      "Skipping tl_2010_42_tract10.zip, it's already downloaded.\n",
      "Skipping tl_2010_42_tract10.zip, it's already extracted.\n",
      "Skipping tl_2010_39_tract10.zip, it's already downloaded.\n",
      "Skipping tl_2010_39_tract10.zip, it's already extracted.\n",
      "Skipping tl_2010_24_tract10.zip, it's already downloaded.\n",
      "Skipping tl_2010_24_tract10.zip, it's already extracted.\n",
      "Skipping tl_2010_36_tract10.zip, it's already downloaded.\n",
      "Skipping tl_2010_36_tract10.zip, it's already extracted.\n",
      "Skipping tl_2010_54_tract10.zip, it's already downloaded.\n",
      "Skipping tl_2010_54_tract10.zip, it's already extracted.\n",
      "Skipping tl_2010_34_tract10.zip, it's already downloaded.\n",
      "Skipping tl_2010_34_tract10.zip, it's already extracted.\n",
      "Skipping tl_2010_10_tract10.zip, it's already downloaded.\n",
      "Skipping tl_2010_10_tract10.zip, it's already extracted.\n",
      "Skipping tl_2010_51_tract10.zip, it's already downloaded.\n",
      "Skipping tl_2010_51_tract10.zip, it's already extracted.\n",
      "PA destinations saved to ./inputs/tract/PA/PA-STU-moud-dests.csv\n"
     ]
    },
    {
     "name": "stderr",
     "output_type": "stream",
     "text": [
      "WARNING:spatial_access.p2p:You should use tmx instead of csv for significantly better performance\n"
     ]
    },
    {
     "name": "stdout",
     "output_type": "stream",
     "text": [
      "PA transformed matrix saved to ./inputs/tract/PA/PA-transformed-matrix.csv\n"
     ]
    },
    {
     "name": "stderr",
     "output_type": "stream",
     "text": [
      "INFO:spatial_access.BaseModel:Using weights: {'STU': [1, 1, 1]}\n"
     ]
    },
    {
     "name": "stdout",
     "output_type": "stream",
     "text": [
      "PA access metrics for STU complete!\n",
      "Skipping tl_2010_us_state10.zip, it's already downloaded.\n",
      "Skipping tl_2010_us_state10.zip, it's already extracted.\n",
      "Skipping tl_2010_44_tract10.zip, it's already downloaded.\n",
      "Skipping tl_2010_44_tract10.zip, it's already extracted.\n",
      "Skipping tl_2010_36_tract10.zip, it's already downloaded.\n",
      "Skipping tl_2010_36_tract10.zip, it's already extracted.\n",
      "Skipping tl_2010_09_tract10.zip, it's already downloaded.\n",
      "Skipping tl_2010_09_tract10.zip, it's already extracted.\n",
      "Skipping tl_2010_25_tract10.zip, it's already downloaded.\n",
      "Skipping tl_2010_25_tract10.zip, it's already extracted.\n",
      "RI destinations saved to ./inputs/tract/RI/RI-STU-moud-dests.csv\n"
     ]
    },
    {
     "name": "stderr",
     "output_type": "stream",
     "text": [
      "WARNING:spatial_access.p2p:You should use tmx instead of csv for significantly better performance\n",
      "INFO:spatial_access.BaseModel:Using weights: {'STU': [1, 1, 1]}\n"
     ]
    },
    {
     "name": "stdout",
     "output_type": "stream",
     "text": [
      "RI transformed matrix saved to ./inputs/tract/RI/RI-transformed-matrix.csv\n",
      "RI access metrics for STU complete!\n",
      "Skipping tl_2010_us_state10.zip, it's already downloaded.\n",
      "Skipping tl_2010_us_state10.zip, it's already extracted.\n",
      "Skipping tl_2010_13_tract10.zip, it's already downloaded.\n",
      "Skipping tl_2010_13_tract10.zip, it's already extracted.\n",
      "Skipping tl_2010_45_tract10.zip, it's already downloaded.\n",
      "Skipping tl_2010_45_tract10.zip, it's already extracted.\n",
      "Skipping tl_2010_37_tract10.zip, it's already downloaded.\n",
      "Skipping tl_2010_37_tract10.zip, it's already extracted.\n",
      "SC destinations saved to ./inputs/tract/SC/SC-STU-moud-dests.csv\n"
     ]
    },
    {
     "name": "stderr",
     "output_type": "stream",
     "text": [
      "WARNING:spatial_access.p2p:You should use tmx instead of csv for significantly better performance\n",
      "INFO:spatial_access.BaseModel:Using weights: {'STU': [1, 1, 1]}\n"
     ]
    },
    {
     "name": "stdout",
     "output_type": "stream",
     "text": [
      "SC transformed matrix saved to ./inputs/tract/SC/SC-transformed-matrix.csv\n",
      "SC access metrics for STU complete!\n",
      "Skipping tl_2010_us_state10.zip, it's already downloaded.\n",
      "Skipping tl_2010_us_state10.zip, it's already extracted.\n",
      "Skipping tl_2010_56_tract10.zip, it's already downloaded.\n",
      "Skipping tl_2010_56_tract10.zip, it's already extracted.\n",
      "Skipping tl_2010_38_tract10.zip, it's already downloaded.\n",
      "Skipping tl_2010_38_tract10.zip, it's already extracted.\n",
      "Skipping tl_2010_31_tract10.zip, it's already downloaded.\n",
      "Skipping tl_2010_31_tract10.zip, it's already extracted.\n",
      "Skipping tl_2010_30_tract10.zip, it's already downloaded.\n",
      "Skipping tl_2010_30_tract10.zip, it's already extracted.\n",
      "Skipping tl_2010_46_tract10.zip, it's already downloaded.\n",
      "Skipping tl_2010_46_tract10.zip, it's already extracted.\n",
      "Skipping tl_2010_19_tract10.zip, it's already downloaded.\n",
      "Skipping tl_2010_19_tract10.zip, it's already extracted.\n",
      "Skipping tl_2010_27_tract10.zip, it's already downloaded.\n",
      "Skipping tl_2010_27_tract10.zip, it's already extracted.\n",
      "SD destinations saved to ./inputs/tract/SD/SD-STU-moud-dests.csv\n"
     ]
    },
    {
     "name": "stderr",
     "output_type": "stream",
     "text": [
      "WARNING:spatial_access.p2p:You should use tmx instead of csv for significantly better performance\n",
      "INFO:spatial_access.BaseModel:Using weights: {'STU': [1, 1, 1]}\n"
     ]
    },
    {
     "name": "stdout",
     "output_type": "stream",
     "text": [
      "SD transformed matrix saved to ./inputs/tract/SD/SD-transformed-matrix.csv\n",
      "SD access metrics for STU complete!\n",
      "Skipping tl_2010_us_state10.zip, it's already downloaded.\n",
      "Skipping tl_2010_us_state10.zip, it's already extracted.\n",
      "Skipping tl_2010_13_tract10.zip, it's already downloaded.\n",
      "Skipping tl_2010_13_tract10.zip, it's already extracted.\n",
      "Skipping tl_2010_05_tract10.zip, it's already downloaded.\n",
      "Skipping tl_2010_05_tract10.zip, it's already extracted.\n",
      "Skipping tl_2010_28_tract10.zip, it's already downloaded.\n",
      "Skipping tl_2010_28_tract10.zip, it's already extracted.\n",
      "Skipping tl_2010_21_tract10.zip, it's already downloaded.\n",
      "Skipping tl_2010_21_tract10.zip, it's already extracted.\n",
      "Skipping tl_2010_29_tract10.zip, it's already downloaded.\n",
      "Skipping tl_2010_29_tract10.zip, it's already extracted.\n",
      "Skipping tl_2010_01_tract10.zip, it's already downloaded.\n",
      "Skipping tl_2010_01_tract10.zip, it's already extracted.\n",
      "Skipping tl_2010_17_tract10.zip, it's already downloaded.\n",
      "Skipping tl_2010_17_tract10.zip, it's already extracted.\n",
      "Skipping tl_2010_47_tract10.zip, it's already downloaded.\n",
      "Skipping tl_2010_47_tract10.zip, it's already extracted.\n",
      "Skipping tl_2010_51_tract10.zip, it's already downloaded.\n",
      "Skipping tl_2010_51_tract10.zip, it's already extracted.\n",
      "Skipping tl_2010_37_tract10.zip, it's already downloaded.\n",
      "Skipping tl_2010_37_tract10.zip, it's already extracted.\n",
      "TN destinations saved to ./inputs/tract/TN/TN-STU-moud-dests.csv\n"
     ]
    },
    {
     "name": "stderr",
     "output_type": "stream",
     "text": [
      "WARNING:spatial_access.p2p:You should use tmx instead of csv for significantly better performance\n"
     ]
    },
    {
     "name": "stdout",
     "output_type": "stream",
     "text": [
      "TN transformed matrix saved to ./inputs/tract/TN/TN-transformed-matrix.csv\n"
     ]
    },
    {
     "name": "stderr",
     "output_type": "stream",
     "text": [
      "INFO:spatial_access.BaseModel:Using weights: {'STU': [1, 1, 1]}\n"
     ]
    },
    {
     "name": "stdout",
     "output_type": "stream",
     "text": [
      "TN access metrics for STU complete!\n",
      "Skipping tl_2010_us_state10.zip, it's already downloaded.\n",
      "Skipping tl_2010_us_state10.zip, it's already extracted.\n",
      "Skipping tl_2010_35_tract10.zip, it's already downloaded.\n",
      "Skipping tl_2010_35_tract10.zip, it's already extracted.\n",
      "Skipping tl_2010_05_tract10.zip, it's already downloaded.\n",
      "Skipping tl_2010_05_tract10.zip, it's already extracted.\n",
      "Skipping tl_2010_20_tract10.zip, it's already downloaded.\n",
      "Skipping tl_2010_20_tract10.zip, it's already extracted.\n",
      "Skipping tl_2010_40_tract10.zip, it's already downloaded.\n",
      "Skipping tl_2010_40_tract10.zip, it's already extracted.\n",
      "Skipping tl_2010_08_tract10.zip, it's already downloaded.\n",
      "Skipping tl_2010_08_tract10.zip, it's already extracted.\n",
      "Skipping tl_2010_22_tract10.zip, it's already downloaded.\n",
      "Skipping tl_2010_22_tract10.zip, it's already extracted.\n",
      "Skipping tl_2010_48_tract10.zip, it's already downloaded.\n",
      "Skipping tl_2010_48_tract10.zip, it's already extracted.\n",
      "TX destinations saved to ./inputs/tract/TX/TX-STU-moud-dests.csv\n"
     ]
    },
    {
     "name": "stderr",
     "output_type": "stream",
     "text": [
      "WARNING:spatial_access.p2p:You should use tmx instead of csv for significantly better performance\n"
     ]
    },
    {
     "name": "stdout",
     "output_type": "stream",
     "text": [
      "TX transformed matrix saved to ./inputs/tract/TX/TX-transformed-matrix.csv\n"
     ]
    },
    {
     "name": "stderr",
     "output_type": "stream",
     "text": [
      "INFO:spatial_access.BaseModel:Using weights: {'STU': [1, 1, 1]}\n"
     ]
    },
    {
     "name": "stdout",
     "output_type": "stream",
     "text": [
      "TX access metrics for STU complete!\n",
      "Skipping tl_2010_us_state10.zip, it's already downloaded.\n",
      "Skipping tl_2010_us_state10.zip, it's already extracted.\n",
      "Skipping tl_2010_56_tract10.zip, it's already downloaded.\n",
      "Skipping tl_2010_56_tract10.zip, it's already extracted.\n",
      "Skipping tl_2010_35_tract10.zip, it's already downloaded.\n",
      "Skipping tl_2010_35_tract10.zip, it's already extracted.\n",
      "Skipping tl_2010_32_tract10.zip, it's already downloaded.\n",
      "Skipping tl_2010_32_tract10.zip, it's already extracted.\n",
      "Skipping tl_2010_49_tract10.zip, it's already downloaded.\n",
      "Skipping tl_2010_49_tract10.zip, it's already extracted.\n",
      "Skipping tl_2010_08_tract10.zip, it's already downloaded.\n",
      "Skipping tl_2010_08_tract10.zip, it's already extracted.\n",
      "Skipping tl_2010_16_tract10.zip, it's already downloaded.\n",
      "Skipping tl_2010_16_tract10.zip, it's already extracted.\n",
      "Skipping tl_2010_04_tract10.zip, it's already downloaded.\n",
      "Skipping tl_2010_04_tract10.zip, it's already extracted.\n",
      "UT destinations saved to ./inputs/tract/UT/UT-STU-moud-dests.csv\n"
     ]
    },
    {
     "name": "stderr",
     "output_type": "stream",
     "text": [
      "WARNING:spatial_access.p2p:You should use tmx instead of csv for significantly better performance\n",
      "INFO:spatial_access.BaseModel:Using weights: {'STU': [1, 1, 1]}\n"
     ]
    },
    {
     "name": "stdout",
     "output_type": "stream",
     "text": [
      "UT transformed matrix saved to ./inputs/tract/UT/UT-transformed-matrix.csv\n",
      "UT access metrics for STU complete!\n",
      "Skipping tl_2010_us_state10.zip, it's already downloaded.\n",
      "Skipping tl_2010_us_state10.zip, it's already extracted.\n",
      "Skipping tl_2010_36_tract10.zip, it's already downloaded.\n",
      "Skipping tl_2010_36_tract10.zip, it's already extracted.\n",
      "Skipping tl_2010_25_tract10.zip, it's already downloaded.\n",
      "Skipping tl_2010_25_tract10.zip, it's already extracted.\n",
      "Skipping tl_2010_33_tract10.zip, it's already downloaded.\n",
      "Skipping tl_2010_33_tract10.zip, it's already extracted.\n",
      "Skipping tl_2010_50_tract10.zip, it's already downloaded.\n",
      "Skipping tl_2010_50_tract10.zip, it's already extracted.\n",
      "Skipping tl_2010_23_tract10.zip, it's already downloaded.\n",
      "Skipping tl_2010_23_tract10.zip, it's already extracted.\n",
      "VT destinations saved to ./inputs/tract/VT/VT-STU-moud-dests.csv\n"
     ]
    },
    {
     "name": "stderr",
     "output_type": "stream",
     "text": [
      "WARNING:spatial_access.p2p:You should use tmx instead of csv for significantly better performance\n",
      "INFO:spatial_access.BaseModel:Using weights: {'STU': [1, 1, 1]}\n"
     ]
    },
    {
     "name": "stdout",
     "output_type": "stream",
     "text": [
      "VT transformed matrix saved to ./inputs/tract/VT/VT-transformed-matrix.csv\n",
      "VT access metrics for STU complete!\n",
      "Skipping tl_2010_us_state10.zip, it's already downloaded.\n",
      "Skipping tl_2010_us_state10.zip, it's already extracted.\n",
      "Skipping tl_2010_42_tract10.zip, it's already downloaded.\n",
      "Skipping tl_2010_42_tract10.zip, it's already extracted.\n",
      "Skipping tl_2010_24_tract10.zip, it's already downloaded.\n",
      "Skipping tl_2010_24_tract10.zip, it's already extracted.\n",
      "Skipping tl_2010_54_tract10.zip, it's already downloaded.\n",
      "Skipping tl_2010_54_tract10.zip, it's already extracted.\n",
      "Skipping tl_2010_10_tract10.zip, it's already downloaded.\n",
      "Skipping tl_2010_10_tract10.zip, it's already extracted.\n",
      "Skipping tl_2010_21_tract10.zip, it's already downloaded.\n",
      "Skipping tl_2010_21_tract10.zip, it's already extracted.\n",
      "Skipping tl_2010_47_tract10.zip, it's already downloaded.\n",
      "Skipping tl_2010_47_tract10.zip, it's already extracted.\n",
      "Skipping tl_2010_11_tract10.zip, it's already downloaded.\n",
      "Skipping tl_2010_11_tract10.zip, it's already extracted.\n",
      "Skipping tl_2010_51_tract10.zip, it's already downloaded.\n",
      "Skipping tl_2010_51_tract10.zip, it's already extracted.\n",
      "Skipping tl_2010_37_tract10.zip, it's already downloaded.\n",
      "Skipping tl_2010_37_tract10.zip, it's already extracted.\n",
      "VA destinations saved to ./inputs/tract/VA/VA-STU-moud-dests.csv\n"
     ]
    },
    {
     "name": "stderr",
     "output_type": "stream",
     "text": [
      "WARNING:spatial_access.p2p:You should use tmx instead of csv for significantly better performance\n"
     ]
    },
    {
     "name": "stdout",
     "output_type": "stream",
     "text": [
      "VA transformed matrix saved to ./inputs/tract/VA/VA-transformed-matrix.csv\n"
     ]
    },
    {
     "name": "stderr",
     "output_type": "stream",
     "text": [
      "INFO:spatial_access.BaseModel:Using weights: {'STU': [1, 1, 1]}\n"
     ]
    },
    {
     "name": "stdout",
     "output_type": "stream",
     "text": [
      "VA access metrics for STU complete!\n",
      "Skipping tl_2010_us_state10.zip, it's already downloaded.\n",
      "Skipping tl_2010_us_state10.zip, it's already extracted.\n",
      "Skipping tl_2010_41_tract10.zip, it's already downloaded.\n",
      "Skipping tl_2010_41_tract10.zip, it's already extracted.\n",
      "Skipping tl_2010_53_tract10.zip, it's already downloaded.\n",
      "Skipping tl_2010_53_tract10.zip, it's already extracted.\n",
      "Skipping tl_2010_16_tract10.zip, it's already downloaded.\n",
      "Skipping tl_2010_16_tract10.zip, it's already extracted.\n",
      "WA destinations saved to ./inputs/tract/WA/WA-STU-moud-dests.csv\n"
     ]
    },
    {
     "name": "stderr",
     "output_type": "stream",
     "text": [
      "WARNING:spatial_access.p2p:You should use tmx instead of csv for significantly better performance\n"
     ]
    },
    {
     "name": "stdout",
     "output_type": "stream",
     "text": [
      "WA transformed matrix saved to ./inputs/tract/WA/WA-transformed-matrix.csv\n"
     ]
    },
    {
     "name": "stderr",
     "output_type": "stream",
     "text": [
      "INFO:spatial_access.BaseModel:Using weights: {'STU': [1, 1, 1]}\n"
     ]
    },
    {
     "name": "stdout",
     "output_type": "stream",
     "text": [
      "WA access metrics for STU complete!\n",
      "Skipping tl_2010_us_state10.zip, it's already downloaded.\n",
      "Skipping tl_2010_us_state10.zip, it's already extracted.\n",
      "Skipping tl_2010_42_tract10.zip, it's already downloaded.\n",
      "Skipping tl_2010_42_tract10.zip, it's already extracted.\n",
      "Skipping tl_2010_39_tract10.zip, it's already downloaded.\n",
      "Skipping tl_2010_39_tract10.zip, it's already extracted.\n",
      "Skipping tl_2010_24_tract10.zip, it's already downloaded.\n",
      "Skipping tl_2010_24_tract10.zip, it's already extracted.\n",
      "Skipping tl_2010_54_tract10.zip, it's already downloaded.\n",
      "Skipping tl_2010_54_tract10.zip, it's already extracted.\n",
      "Skipping tl_2010_21_tract10.zip, it's already downloaded.\n",
      "Skipping tl_2010_21_tract10.zip, it's already extracted.\n",
      "Skipping tl_2010_51_tract10.zip, it's already downloaded.\n",
      "Skipping tl_2010_51_tract10.zip, it's already extracted.\n",
      "WV destinations saved to ./inputs/tract/WV/WV-STU-moud-dests.csv\n"
     ]
    },
    {
     "name": "stderr",
     "output_type": "stream",
     "text": [
      "WARNING:spatial_access.p2p:You should use tmx instead of csv for significantly better performance\n",
      "INFO:spatial_access.BaseModel:Using weights: {'STU': [1, 1, 1]}\n"
     ]
    },
    {
     "name": "stdout",
     "output_type": "stream",
     "text": [
      "WV transformed matrix saved to ./inputs/tract/WV/WV-transformed-matrix.csv\n",
      "WV access metrics for STU complete!\n",
      "Skipping tl_2010_us_state10.zip, it's already downloaded.\n",
      "Skipping tl_2010_us_state10.zip, it's already extracted.\n",
      "Skipping tl_2010_55_tract10.zip, it's already downloaded.\n",
      "Skipping tl_2010_55_tract10.zip, it's already extracted.\n",
      "Skipping tl_2010_26_tract10.zip, it's already downloaded.\n",
      "Skipping tl_2010_26_tract10.zip, it's already extracted.\n",
      "Skipping tl_2010_17_tract10.zip, it's already downloaded.\n",
      "Skipping tl_2010_17_tract10.zip, it's already extracted.\n",
      "Skipping tl_2010_19_tract10.zip, it's already downloaded.\n",
      "Skipping tl_2010_19_tract10.zip, it's already extracted.\n",
      "Skipping tl_2010_27_tract10.zip, it's already downloaded.\n",
      "Skipping tl_2010_27_tract10.zip, it's already extracted.\n",
      "WI destinations saved to ./inputs/tract/WI/WI-STU-moud-dests.csv\n"
     ]
    },
    {
     "name": "stderr",
     "output_type": "stream",
     "text": [
      "WARNING:spatial_access.p2p:You should use tmx instead of csv for significantly better performance\n"
     ]
    },
    {
     "name": "stdout",
     "output_type": "stream",
     "text": [
      "WI transformed matrix saved to ./inputs/tract/WI/WI-transformed-matrix.csv\n"
     ]
    },
    {
     "name": "stderr",
     "output_type": "stream",
     "text": [
      "INFO:spatial_access.BaseModel:Using weights: {'STU': [1, 1, 1]}\n"
     ]
    },
    {
     "name": "stdout",
     "output_type": "stream",
     "text": [
      "WI access metrics for STU complete!\n",
      "Skipping tl_2010_us_state10.zip, it's already downloaded.\n",
      "Skipping tl_2010_us_state10.zip, it's already extracted.\n",
      "Skipping tl_2010_56_tract10.zip, it's already downloaded.\n",
      "Skipping tl_2010_56_tract10.zip, it's already extracted.\n",
      "Skipping tl_2010_31_tract10.zip, it's already downloaded.\n",
      "Skipping tl_2010_31_tract10.zip, it's already extracted.\n",
      "Skipping tl_2010_49_tract10.zip, it's already downloaded.\n",
      "Skipping tl_2010_49_tract10.zip, it's already extracted.\n",
      "Skipping tl_2010_08_tract10.zip, it's already downloaded.\n",
      "Skipping tl_2010_08_tract10.zip, it's already extracted.\n",
      "Skipping tl_2010_30_tract10.zip, it's already downloaded.\n",
      "Skipping tl_2010_30_tract10.zip, it's already extracted.\n",
      "Skipping tl_2010_16_tract10.zip, it's already downloaded.\n",
      "Skipping tl_2010_16_tract10.zip, it's already extracted.\n",
      "Skipping tl_2010_46_tract10.zip, it's already downloaded.\n",
      "Skipping tl_2010_46_tract10.zip, it's already extracted.\n",
      "WY destinations saved to ./inputs/tract/WY/WY-STU-moud-dests.csv\n"
     ]
    },
    {
     "name": "stderr",
     "output_type": "stream",
     "text": [
      "WARNING:spatial_access.p2p:You should use tmx instead of csv for significantly better performance\n",
      "INFO:spatial_access.BaseModel:Using weights: {'STU': [1, 1, 1]}\n"
     ]
    },
    {
     "name": "stdout",
     "output_type": "stream",
     "text": [
      "WY transformed matrix saved to ./inputs/tract/WY/WY-transformed-matrix.csv\n",
      "WY access metrics for STU complete!\n"
     ]
    }
   ],
   "source": [
    "for state in STATES:\n",
    "#     utils.get_resource(state, 'tract', './')\n",
    "    access_metrics_file = f'{state}/{state}-{resource[:3]}-access-metrics.csv'\n",
    "    access_metrics_path = f'./outputs/tract/{access_metrics_file}'\n",
    "    \n",
    "    origs_path = f'./inputs/tract/{state}/{state}-origins.csv'\n",
    "    dests_path = f'./inputs/tract/{state}/{state}-{resource[:3]}-moud-dests.csv'\n",
    "    matrix_csv = f'./inputs/tract/{state}/{state}-transformed-matrix.csv'\n",
    "    matrix_tmx = f'./inputs/tract/{state}/{state}-transformed-matrix.tmx'\n",
    "    \n",
    "    if not os.path.exists(access_metrics_path):\n",
    "        \n",
    "        if not os.path.exists(origs_path):\n",
    "            spatial_access_prep.create_origins_file(state, outpath, save=True)\n",
    "            \n",
    "        spatial_access_prep.create_destinations_file(state, resources_path, './', resource = resource, save=True)\n",
    "        spatial_access_prep.create_transformed_matrix(state, outpath,resource = resource, save=True)\n",
    "\n",
    "        accessM = AccessModel(network_type = 'drive',\n",
    "                         transit_matrix_filename = matrix_csv,\n",
    "                         sources_filename = origs_path,\n",
    "                         destinations_filename = dests_path,\n",
    "                         source_column_names = source_col_names,\n",
    "                         dest_column_names = dest_col_names)  \n",
    "        \n",
    "        if not os.path.exists(matrix_tmx):\n",
    "            accessM.transit_matrix.write_tmx(matrix_tmx)\n",
    "\n",
    "        accessT = AccessTime(network_type = 'drive',\n",
    "                         transit_matrix_filename = matrix_tmx,\n",
    "                         sources_filename = origs_path,\n",
    "                         destinations_filename = dests_path,\n",
    "                         source_column_names = source_col_names,\n",
    "                         dest_column_names = dest_col_names)  \n",
    "\n",
    "        accessC = AccessCount(network_type = 'drive',\n",
    "                         transit_matrix_filename = matrix_tmx,\n",
    "                         sources_filename = origs_path,\n",
    "                         destinations_filename = dests_path,\n",
    "                         source_column_names = source_col_names,\n",
    "                         dest_column_names = dest_col_names)  \n",
    "\n",
    "        weights = {resource:[1,1,1]}\n",
    "\n",
    "        accessT.calculate()\n",
    "        ttn = accessT.model_results.reset_index()\n",
    "\n",
    "        accessC.calculate(upper_threshold = 30)\n",
    "        nCount = accessC.model_results.reset_index()\n",
    "\n",
    "\n",
    "        accessM.calculate(upper_threshold = 30, category_weight_dict = weights)\n",
    "        score = accessM.model_results.reset_index()\n",
    "\n",
    "        accessBup = ttn.merge(nCount)\n",
    "        accessBup = accessBup.merge(score)\n",
    "\n",
    "        accessBup.drop(['time_to_nearest_all_categories','count_in_range_all_categories','all_categories_score'], axis=1, inplace=True)\n",
    "        accessBup = accessBup.rename(columns= {'index':'tract'})\n",
    "#         accessBup\n",
    "\n",
    "        accessBup.to_csv(access_metrics_path, index = False)\n",
    "        print(f'{state} access metrics for {resource} complete!')\n"
   ]
  },
  {
   "cell_type": "code",
   "execution_count": 122,
   "metadata": {},
   "outputs": [],
   "source": [
    "access_metrics = dd.read_csv(f'./outputs/tract/*/*-{resource[:3]}-access-metrics.csv')"
   ]
  },
  {
   "cell_type": "code",
   "execution_count": 123,
   "metadata": {},
   "outputs": [
    {
     "data": {
      "text/plain": [
       "['/home/vidal/Projects/compumatrix/outputs/tract/contigUS-nal-access-metrics.csv']"
      ]
     },
     "execution_count": 123,
     "metadata": {},
     "output_type": "execute_result"
    }
   ],
   "source": [
    "access_metrics.to_csv(f'./outputs/tract/contigUS-{resource[:3]}-access-metrics.csv', single_file = True, index=False)"
   ]
  },
  {
   "cell_type": "code",
   "execution_count": 124,
   "metadata": {},
   "outputs": [],
   "source": [
    "resource = 'nal'"
   ]
  },
  {
   "cell_type": "code",
   "execution_count": 125,
   "metadata": {},
   "outputs": [],
   "source": [
    "us = f'/home/vidal/Projects/compumatrix/outputs/tract/contigUS-{resource[:3]}-access-metrics.csv'"
   ]
  },
  {
   "cell_type": "code",
   "execution_count": 126,
   "metadata": {},
   "outputs": [],
   "source": [
    "us_dd = dd.read_csv(us)\n",
    "us_dd.columns\n",
    "us_dd['tract'] = us_dd['tract'].astype(str)"
   ]
  },
  {
   "cell_type": "code",
   "execution_count": 127,
   "metadata": {},
   "outputs": [
    {
     "data": {
      "text/html": [
       "<div>\n",
       "<style scoped>\n",
       "    .dataframe tbody tr th:only-of-type {\n",
       "        vertical-align: middle;\n",
       "    }\n",
       "\n",
       "    .dataframe tbody tr th {\n",
       "        vertical-align: top;\n",
       "    }\n",
       "\n",
       "    .dataframe thead th {\n",
       "        text-align: right;\n",
       "    }\n",
       "</style>\n",
       "<table border=\"1\" class=\"dataframe\">\n",
       "  <thead>\n",
       "    <tr style=\"text-align: right;\">\n",
       "      <th></th>\n",
       "      <th>tract</th>\n",
       "      <th>time_to_nearest_naltrexone/vivitrol</th>\n",
       "      <th>count_in_range_naltrexone/vivitrol</th>\n",
       "      <th>naltrexone/vivitrol_score</th>\n",
       "    </tr>\n",
       "  </thead>\n",
       "  <tbody>\n",
       "    <tr>\n",
       "      <th>0</th>\n",
       "      <td>1087232000</td>\n",
       "      <td>49</td>\n",
       "      <td>0</td>\n",
       "      <td>0.0</td>\n",
       "    </tr>\n",
       "    <tr>\n",
       "      <th>1</th>\n",
       "      <td>1103005701</td>\n",
       "      <td>33</td>\n",
       "      <td>0</td>\n",
       "      <td>0.0</td>\n",
       "    </tr>\n",
       "    <tr>\n",
       "      <th>2</th>\n",
       "      <td>1081040901</td>\n",
       "      <td>53</td>\n",
       "      <td>0</td>\n",
       "      <td>0.0</td>\n",
       "    </tr>\n",
       "    <tr>\n",
       "      <th>3</th>\n",
       "      <td>1081040902</td>\n",
       "      <td>53</td>\n",
       "      <td>0</td>\n",
       "      <td>0.0</td>\n",
       "    </tr>\n",
       "    <tr>\n",
       "      <th>4</th>\n",
       "      <td>1023957000</td>\n",
       "      <td>74</td>\n",
       "      <td>0</td>\n",
       "      <td>0.0</td>\n",
       "    </tr>\n",
       "  </tbody>\n",
       "</table>\n",
       "</div>"
      ],
      "text/plain": [
       "        tract  time_to_nearest_naltrexone/vivitrol  \\\n",
       "0  1087232000                                   49   \n",
       "1  1103005701                                   33   \n",
       "2  1081040901                                   53   \n",
       "3  1081040902                                   53   \n",
       "4  1023957000                                   74   \n",
       "\n",
       "   count_in_range_naltrexone/vivitrol  naltrexone/vivitrol_score  \n",
       "0                                   0                        0.0  \n",
       "1                                   0                        0.0  \n",
       "2                                   0                        0.0  \n",
       "3                                   0                        0.0  \n",
       "4                                   0                        0.0  "
      ]
     },
     "execution_count": 127,
     "metadata": {},
     "output_type": "execute_result"
    }
   ],
   "source": [
    "us_dd.head()"
   ]
  },
  {
   "cell_type": "code",
   "execution_count": 128,
   "metadata": {},
   "outputs": [
    {
     "data": {
      "text/html": [
       "<div>\n",
       "<style scoped>\n",
       "    .dataframe tbody tr th:only-of-type {\n",
       "        vertical-align: middle;\n",
       "    }\n",
       "\n",
       "    .dataframe tbody tr th {\n",
       "        vertical-align: top;\n",
       "    }\n",
       "\n",
       "    .dataframe thead th {\n",
       "        text-align: right;\n",
       "    }\n",
       "</style>\n",
       "<table border=\"1\" class=\"dataframe\">\n",
       "  <thead>\n",
       "    <tr style=\"text-align: right;\">\n",
       "      <th></th>\n",
       "      <th>tract</th>\n",
       "      <th>time_to_nearest_naltrexone/vivitrol</th>\n",
       "      <th>count_in_range_naltrexone/vivitrol</th>\n",
       "      <th>naltrexone/vivitrol_score</th>\n",
       "    </tr>\n",
       "  </thead>\n",
       "  <tbody>\n",
       "    <tr>\n",
       "      <th>3393</th>\n",
       "      <td>6037504001</td>\n",
       "      <td>4</td>\n",
       "      <td>97</td>\n",
       "      <td>2.100000</td>\n",
       "    </tr>\n",
       "    <tr>\n",
       "      <th>3394</th>\n",
       "      <td>6037504002</td>\n",
       "      <td>4</td>\n",
       "      <td>102</td>\n",
       "      <td>2.200000</td>\n",
       "    </tr>\n",
       "    <tr>\n",
       "      <th>3395</th>\n",
       "      <td>6037405701</td>\n",
       "      <td>6</td>\n",
       "      <td>64</td>\n",
       "      <td>2.566667</td>\n",
       "    </tr>\n",
       "    <tr>\n",
       "      <th>3396</th>\n",
       "      <td>6037405702</td>\n",
       "      <td>7</td>\n",
       "      <td>64</td>\n",
       "      <td>2.600000</td>\n",
       "    </tr>\n",
       "    <tr>\n",
       "      <th>3397</th>\n",
       "      <td>6037209102</td>\n",
       "      <td>0</td>\n",
       "      <td>179</td>\n",
       "      <td>2.800000</td>\n",
       "    </tr>\n",
       "    <tr>\n",
       "      <th>...</th>\n",
       "      <td>...</td>\n",
       "      <td>...</td>\n",
       "      <td>...</td>\n",
       "      <td>...</td>\n",
       "    </tr>\n",
       "    <tr>\n",
       "      <th>11445</th>\n",
       "      <td>6085509108</td>\n",
       "      <td>15</td>\n",
       "      <td>80</td>\n",
       "      <td>2.100000</td>\n",
       "    </tr>\n",
       "    <tr>\n",
       "      <th>11446</th>\n",
       "      <td>6085509109</td>\n",
       "      <td>14</td>\n",
       "      <td>80</td>\n",
       "      <td>2.266667</td>\n",
       "    </tr>\n",
       "    <tr>\n",
       "      <th>11447</th>\n",
       "      <td>6037700600</td>\n",
       "      <td>5</td>\n",
       "      <td>178</td>\n",
       "      <td>2.533333</td>\n",
       "    </tr>\n",
       "    <tr>\n",
       "      <th>11448</th>\n",
       "      <td>6037602301</td>\n",
       "      <td>3</td>\n",
       "      <td>178</td>\n",
       "      <td>2.466667</td>\n",
       "    </tr>\n",
       "    <tr>\n",
       "      <th>11449</th>\n",
       "      <td>6037602302</td>\n",
       "      <td>4</td>\n",
       "      <td>122</td>\n",
       "      <td>2.400000</td>\n",
       "    </tr>\n",
       "  </tbody>\n",
       "</table>\n",
       "<p>7702 rows × 4 columns</p>\n",
       "</div>"
      ],
      "text/plain": [
       "            tract  time_to_nearest_naltrexone/vivitrol  \\\n",
       "3393   6037504001                                    4   \n",
       "3394   6037504002                                    4   \n",
       "3395   6037405701                                    6   \n",
       "3396   6037405702                                    7   \n",
       "3397   6037209102                                    0   \n",
       "...           ...                                  ...   \n",
       "11445  6085509108                                   15   \n",
       "11446  6085509109                                   14   \n",
       "11447  6037700600                                    5   \n",
       "11448  6037602301                                    3   \n",
       "11449  6037602302                                    4   \n",
       "\n",
       "       count_in_range_naltrexone/vivitrol  naltrexone/vivitrol_score  \n",
       "3393                                   97                   2.100000  \n",
       "3394                                  102                   2.200000  \n",
       "3395                                   64                   2.566667  \n",
       "3396                                   64                   2.600000  \n",
       "3397                                  179                   2.800000  \n",
       "...                                   ...                        ...  \n",
       "11445                                  80                   2.100000  \n",
       "11446                                  80                   2.266667  \n",
       "11447                                 178                   2.533333  \n",
       "11448                                 178                   2.466667  \n",
       "11449                                 122                   2.400000  \n",
       "\n",
       "[7702 rows x 4 columns]"
      ]
     },
     "execution_count": 128,
     "metadata": {},
     "output_type": "execute_result"
    }
   ],
   "source": [
    "us_dd[us_dd['tract'].str.startswith(\"60\")].compute()"
   ]
  },
  {
   "cell_type": "code",
   "execution_count": 129,
   "metadata": {},
   "outputs": [
    {
     "data": {
      "text/html": [
       "<div>\n",
       "<style scoped>\n",
       "    .dataframe tbody tr th:only-of-type {\n",
       "        vertical-align: middle;\n",
       "    }\n",
       "\n",
       "    .dataframe tbody tr th {\n",
       "        vertical-align: top;\n",
       "    }\n",
       "\n",
       "    .dataframe thead th {\n",
       "        text-align: right;\n",
       "    }\n",
       "</style>\n",
       "<table border=\"1\" class=\"dataframe\">\n",
       "  <thead>\n",
       "    <tr style=\"text-align: right;\">\n",
       "      <th></th>\n",
       "      <th>tract</th>\n",
       "      <th>time_to_nearest_naltrexone/vivitrol</th>\n",
       "      <th>count_in_range_naltrexone/vivitrol</th>\n",
       "      <th>naltrexone/vivitrol_score</th>\n",
       "    </tr>\n",
       "  </thead>\n",
       "  <tbody>\n",
       "    <tr>\n",
       "      <th>61112</th>\n",
       "      <td>48201531400</td>\n",
       "      <td>12</td>\n",
       "      <td>43</td>\n",
       "      <td>2.300000</td>\n",
       "    </tr>\n",
       "    <tr>\n",
       "      <th>61113</th>\n",
       "      <td>48201433100</td>\n",
       "      <td>10</td>\n",
       "      <td>43</td>\n",
       "      <td>2.066667</td>\n",
       "    </tr>\n",
       "    <tr>\n",
       "      <th>61114</th>\n",
       "      <td>48213950500</td>\n",
       "      <td>61</td>\n",
       "      <td>0</td>\n",
       "      <td>0.233333</td>\n",
       "    </tr>\n",
       "    <tr>\n",
       "      <th>61115</th>\n",
       "      <td>48041001000</td>\n",
       "      <td>99</td>\n",
       "      <td>0</td>\n",
       "      <td>1.333333</td>\n",
       "    </tr>\n",
       "    <tr>\n",
       "      <th>61116</th>\n",
       "      <td>48185180200</td>\n",
       "      <td>83</td>\n",
       "      <td>0</td>\n",
       "      <td>0.000000</td>\n",
       "    </tr>\n",
       "    <tr>\n",
       "      <th>...</th>\n",
       "      <td>...</td>\n",
       "      <td>...</td>\n",
       "      <td>...</td>\n",
       "      <td>...</td>\n",
       "    </tr>\n",
       "    <tr>\n",
       "      <th>66372</th>\n",
       "      <td>48349970400</td>\n",
       "      <td>80</td>\n",
       "      <td>0</td>\n",
       "      <td>0.000000</td>\n",
       "    </tr>\n",
       "    <tr>\n",
       "      <th>66373</th>\n",
       "      <td>48121020401</td>\n",
       "      <td>6</td>\n",
       "      <td>6</td>\n",
       "      <td>2.400000</td>\n",
       "    </tr>\n",
       "    <tr>\n",
       "      <th>66374</th>\n",
       "      <td>48121020402</td>\n",
       "      <td>0</td>\n",
       "      <td>6</td>\n",
       "      <td>2.700000</td>\n",
       "    </tr>\n",
       "    <tr>\n",
       "      <th>66375</th>\n",
       "      <td>48121020403</td>\n",
       "      <td>4</td>\n",
       "      <td>6</td>\n",
       "      <td>2.800000</td>\n",
       "    </tr>\n",
       "    <tr>\n",
       "      <th>66376</th>\n",
       "      <td>48029171700</td>\n",
       "      <td>11</td>\n",
       "      <td>43</td>\n",
       "      <td>1.133333</td>\n",
       "    </tr>\n",
       "  </tbody>\n",
       "</table>\n",
       "<p>5265 rows × 4 columns</p>\n",
       "</div>"
      ],
      "text/plain": [
       "             tract  time_to_nearest_naltrexone/vivitrol  \\\n",
       "61112  48201531400                                   12   \n",
       "61113  48201433100                                   10   \n",
       "61114  48213950500                                   61   \n",
       "61115  48041001000                                   99   \n",
       "61116  48185180200                                   83   \n",
       "...            ...                                  ...   \n",
       "66372  48349970400                                   80   \n",
       "66373  48121020401                                    6   \n",
       "66374  48121020402                                    0   \n",
       "66375  48121020403                                    4   \n",
       "66376  48029171700                                   11   \n",
       "\n",
       "       count_in_range_naltrexone/vivitrol  naltrexone/vivitrol_score  \n",
       "61112                                  43                   2.300000  \n",
       "61113                                  43                   2.066667  \n",
       "61114                                   0                   0.233333  \n",
       "61115                                   0                   1.333333  \n",
       "61116                                   0                   0.000000  \n",
       "...                                   ...                        ...  \n",
       "66372                                   0                   0.000000  \n",
       "66373                                   6                   2.400000  \n",
       "66374                                   6                   2.700000  \n",
       "66375                                   6                   2.800000  \n",
       "66376                                  43                   1.133333  \n",
       "\n",
       "[5265 rows x 4 columns]"
      ]
     },
     "execution_count": 129,
     "metadata": {},
     "output_type": "execute_result"
    }
   ],
   "source": [
    "us_dd[us_dd['tract'].str.startswith('48')].compute()"
   ]
  },
  {
   "cell_type": "code",
   "execution_count": 130,
   "metadata": {},
   "outputs": [],
   "source": [
    "us_dd['tract'] = us_dd['tract'].str.zfill(11)"
   ]
  },
  {
   "cell_type": "code",
   "execution_count": 131,
   "metadata": {},
   "outputs": [
    {
     "data": {
      "text/html": [
       "<div>\n",
       "<style scoped>\n",
       "    .dataframe tbody tr th:only-of-type {\n",
       "        vertical-align: middle;\n",
       "    }\n",
       "\n",
       "    .dataframe tbody tr th {\n",
       "        vertical-align: top;\n",
       "    }\n",
       "\n",
       "    .dataframe thead th {\n",
       "        text-align: right;\n",
       "    }\n",
       "</style>\n",
       "<table border=\"1\" class=\"dataframe\">\n",
       "  <thead>\n",
       "    <tr style=\"text-align: right;\">\n",
       "      <th></th>\n",
       "      <th>tract</th>\n",
       "      <th>time_to_nearest_naltrexone/vivitrol</th>\n",
       "      <th>count_in_range_naltrexone/vivitrol</th>\n",
       "      <th>naltrexone/vivitrol_score</th>\n",
       "    </tr>\n",
       "  </thead>\n",
       "  <tbody>\n",
       "    <tr>\n",
       "      <th>3393</th>\n",
       "      <td>06037504001</td>\n",
       "      <td>4</td>\n",
       "      <td>97</td>\n",
       "      <td>2.100000</td>\n",
       "    </tr>\n",
       "    <tr>\n",
       "      <th>3394</th>\n",
       "      <td>06037504002</td>\n",
       "      <td>4</td>\n",
       "      <td>102</td>\n",
       "      <td>2.200000</td>\n",
       "    </tr>\n",
       "    <tr>\n",
       "      <th>3395</th>\n",
       "      <td>06037405701</td>\n",
       "      <td>6</td>\n",
       "      <td>64</td>\n",
       "      <td>2.566667</td>\n",
       "    </tr>\n",
       "    <tr>\n",
       "      <th>3396</th>\n",
       "      <td>06037405702</td>\n",
       "      <td>7</td>\n",
       "      <td>64</td>\n",
       "      <td>2.600000</td>\n",
       "    </tr>\n",
       "    <tr>\n",
       "      <th>3397</th>\n",
       "      <td>06037209102</td>\n",
       "      <td>0</td>\n",
       "      <td>179</td>\n",
       "      <td>2.800000</td>\n",
       "    </tr>\n",
       "    <tr>\n",
       "      <th>...</th>\n",
       "      <td>...</td>\n",
       "      <td>...</td>\n",
       "      <td>...</td>\n",
       "      <td>...</td>\n",
       "    </tr>\n",
       "    <tr>\n",
       "      <th>11445</th>\n",
       "      <td>06085509108</td>\n",
       "      <td>15</td>\n",
       "      <td>80</td>\n",
       "      <td>2.100000</td>\n",
       "    </tr>\n",
       "    <tr>\n",
       "      <th>11446</th>\n",
       "      <td>06085509109</td>\n",
       "      <td>14</td>\n",
       "      <td>80</td>\n",
       "      <td>2.266667</td>\n",
       "    </tr>\n",
       "    <tr>\n",
       "      <th>11447</th>\n",
       "      <td>06037700600</td>\n",
       "      <td>5</td>\n",
       "      <td>178</td>\n",
       "      <td>2.533333</td>\n",
       "    </tr>\n",
       "    <tr>\n",
       "      <th>11448</th>\n",
       "      <td>06037602301</td>\n",
       "      <td>3</td>\n",
       "      <td>178</td>\n",
       "      <td>2.466667</td>\n",
       "    </tr>\n",
       "    <tr>\n",
       "      <th>11449</th>\n",
       "      <td>06037602302</td>\n",
       "      <td>4</td>\n",
       "      <td>122</td>\n",
       "      <td>2.400000</td>\n",
       "    </tr>\n",
       "  </tbody>\n",
       "</table>\n",
       "<p>8057 rows × 4 columns</p>\n",
       "</div>"
      ],
      "text/plain": [
       "             tract  time_to_nearest_naltrexone/vivitrol  \\\n",
       "3393   06037504001                                    4   \n",
       "3394   06037504002                                    4   \n",
       "3395   06037405701                                    6   \n",
       "3396   06037405702                                    7   \n",
       "3397   06037209102                                    0   \n",
       "...            ...                                  ...   \n",
       "11445  06085509108                                   15   \n",
       "11446  06085509109                                   14   \n",
       "11447  06037700600                                    5   \n",
       "11448  06037602301                                    3   \n",
       "11449  06037602302                                    4   \n",
       "\n",
       "       count_in_range_naltrexone/vivitrol  naltrexone/vivitrol_score  \n",
       "3393                                   97                   2.100000  \n",
       "3394                                  102                   2.200000  \n",
       "3395                                   64                   2.566667  \n",
       "3396                                   64                   2.600000  \n",
       "3397                                  179                   2.800000  \n",
       "...                                   ...                        ...  \n",
       "11445                                  80                   2.100000  \n",
       "11446                                  80                   2.266667  \n",
       "11447                                 178                   2.533333  \n",
       "11448                                 178                   2.466667  \n",
       "11449                                 122                   2.400000  \n",
       "\n",
       "[8057 rows x 4 columns]"
      ]
     },
     "execution_count": 131,
     "metadata": {},
     "output_type": "execute_result"
    }
   ],
   "source": [
    "us_dd[us_dd['tract'].str.startswith(\"06\")].compute()"
   ]
  },
  {
   "cell_type": "code",
   "execution_count": 132,
   "metadata": {},
   "outputs": [
    {
     "data": {
      "text/plain": [
       "['/home/vidal/Projects/compumatrix/outputs/tract/contigUS-nal-access-metrics.csv']"
      ]
     },
     "execution_count": 132,
     "metadata": {},
     "output_type": "execute_result"
    }
   ],
   "source": [
    "us_dd.to_csv(f'/home/vidal/Projects/compumatrix/outputs/tract/contigUS-{resource[:3]}-access-metrics.csv', single_file=True)"
   ]
  },
  {
   "cell_type": "code",
   "execution_count": null,
   "metadata": {},
   "outputs": [],
   "source": []
  }
 ],
 "metadata": {
  "kernelspec": {
   "display_name": "Python 3",
   "language": "python",
   "name": "python3"
  },
  "language_info": {
   "codemirror_mode": {
    "name": "ipython",
    "version": 3
   },
   "file_extension": ".py",
   "mimetype": "text/x-python",
   "name": "python",
   "nbconvert_exporter": "python",
   "pygments_lexer": "ipython3",
   "version": "3.7.6"
  }
 },
 "nbformat": 4,
 "nbformat_minor": 4
}
